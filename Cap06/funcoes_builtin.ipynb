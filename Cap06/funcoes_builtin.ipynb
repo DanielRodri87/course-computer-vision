{
 "cells": [
  {
   "cell_type": "markdown",
   "metadata": {},
   "source": [
    "Existem funções built-in em Python que podem ser usadas para resolver este problema, mas a ideia é implementar uma solução sem usar essas funções. A solução é simples, basta percorrer a string e verificar se o caractere atual é um número. Se for, adicionamos ele a uma string temporária. Se não for, verificamos se a string temporária é maior que a string de maior tamanho encontrada até o momento. Se for, atualizamos a string de maior tamanho. No final, retornamos o tamanho da string de maior tamanho encontrada.\n",
    "\n",
    "Principais: map, filter, reduce, zip"
   ]
  },
  {
   "cell_type": "markdown",
   "metadata": {},
   "source": [
    "# Função Zip\n",
    "A função zip() recebe duas ou mais sequências e retorna uma lista de tuplas, onde a tupla i contém o i-ésimo elemento de cada uma das sequências. A função zip() é útil quando queremos iterar sobre duas ou mais sequências ao mesmo tempo."
   ]
  },
  {
   "cell_type": "code",
   "execution_count": 2,
   "metadata": {},
   "outputs": [
    {
     "data": {
      "text/plain": [
       "[(1, 7), (2, 8), (3, 9), (4, 10)]"
      ]
     },
     "execution_count": 2,
     "metadata": {},
     "output_type": "execute_result"
    }
   ],
   "source": [
    "x = [1, 2, 3, 4]\n",
    "y = [7, 8, 9, 10]\n",
    "\n",
    "list(zip(x, y))"
   ]
  },
  {
   "cell_type": "code",
   "execution_count": 3,
   "metadata": {},
   "outputs": [
    {
     "data": {
      "text/plain": [
       "[(1, 5), (2, 6)]"
      ]
     },
     "execution_count": 3,
     "metadata": {},
     "output_type": "execute_result"
    }
   ],
   "source": [
    "x1 = [1, 2, 3, 4]\n",
    "y1 = [5, 6]\n",
    "\n",
    "list(zip(x1, y1))"
   ]
  },
  {
   "cell_type": "markdown",
   "metadata": {},
   "source": [
    "## Criando uma função para trocar os valores entre 2 dicts\n",
    "```python"
   ]
  },
  {
   "cell_type": "code",
   "execution_count": null,
   "metadata": {},
   "outputs": [],
   "source": [
    "def trocaValores(d1, d2):\n",
    "    dicTemp = {}\n",
    "    \n",
    "    for d1key, d2value in zip(d1, d2.values()):\n",
    "        dicTemp[d1key] = d2value\n",
    "    \n",
    "    return dicTemp"
   ]
  }
 ],
 "metadata": {
  "kernelspec": {
   "display_name": "Python 3",
   "language": "python",
   "name": "python3"
  },
  "language_info": {
   "codemirror_mode": {
    "name": "ipython",
    "version": 3
   },
   "file_extension": ".py",
   "mimetype": "text/x-python",
   "name": "python",
   "nbconvert_exporter": "python",
   "pygments_lexer": "ipython3",
   "version": "3.10.11"
  }
 },
 "nbformat": 4,
 "nbformat_minor": 2
}
