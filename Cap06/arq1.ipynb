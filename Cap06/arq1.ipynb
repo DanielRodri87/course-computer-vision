{
 "cells": [
  {
   "cell_type": "markdown",
   "metadata": {},
   "source": [
    "Lendo os dados do arquivo"
   ]
  },
  {
   "cell_type": "code",
   "execution_count": 14,
   "metadata": {},
   "outputs": [
    {
     "name": "stdout",
     "output_type": "stream",
     "text": [
      "A Data Science Academy fornece cursos de alta qualidade e que transmitem muito conhecimento.\n",
      "92\n",
      "0\n",
      "A Dat\n"
     ]
    }
   ],
   "source": [
    "arq1 = open(\"arquivos/arquivo1.txt\", \"r\")\n",
    "\n",
    "# Lendo o arquivo\n",
    "print(arq1.read())\n",
    "\n",
    "# Contando a quantidade de caracteres:\n",
    "print(arq1.tell())\n",
    "\n",
    "# Retornando ao inicio do documento\n",
    "print(arq1.seek(0,0))\n",
    "\n",
    "# Lendo os primeiros 5 caracteres\n",
    "print(arq1.read(5))\n"
   ]
  },
  {
   "cell_type": "markdown",
   "metadata": {},
   "source": [
    "Gravando dados no arquivo "
   ]
  },
  {
   "cell_type": "code",
   "execution_count": 15,
   "metadata": {},
   "outputs": [],
   "source": [
    "# Abrindo arquivo para a gravação\n",
    "\n",
    "arq2 = open(\"arquivos/arq2.txt\", \"w\") # Se existir, sobrescreve, se não, cria\n",
    "\n",
    "arq2.write(\"Eu escrevi esse texto legal\")\n",
    "\n",
    "arq2.close()\n",
    "\n",
    "# Usando o modo a de append, eu posso acrescentar\n",
    "arq2 = open(\"arquivos/arq2.txt\", \"a\")\n",
    "\n",
    "arq2.write(\"\\nEu escrevi esse texto dois que tbm élegal\")\n",
    "\n",
    "arq2.close()\n"
   ]
  }
 ],
 "metadata": {
  "kernelspec": {
   "display_name": "Python 3",
   "language": "python",
   "name": "python3"
  },
  "language_info": {
   "codemirror_mode": {
    "name": "ipython",
    "version": 3
   },
   "file_extension": ".py",
   "mimetype": "text/x-python",
   "name": "python",
   "nbconvert_exporter": "python",
   "pygments_lexer": "ipython3",
   "version": "3.10.11"
  }
 },
 "nbformat": 4,
 "nbformat_minor": 2
}
