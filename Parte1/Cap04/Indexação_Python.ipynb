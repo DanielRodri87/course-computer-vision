{
 "cells": [
  {
   "cell_type": "markdown",
   "id": "4fcf898e",
   "metadata": {},
   "source": [
    " Intervalo de itens na minha string"
   ]
  },
  {
   "cell_type": "code",
   "execution_count": 1,
   "id": "9a727bc6",
   "metadata": {},
   "outputs": [
    {
     "name": "stdout",
     "output_type": "stream",
     "text": [
      "iel é uma pessoa legal\n"
     ]
    }
   ],
   "source": [
    "texto = \"Daniel é uma pessoa legal\"\n",
    "print(texto[3:])"
   ]
  },
  {
   "cell_type": "code",
   "execution_count": 2,
   "id": "687df6fe",
   "metadata": {},
   "outputs": [
    {
     "name": "stdout",
     "output_type": "stream",
     "text": [
      "Dan\n"
     ]
    }
   ],
   "source": [
    "print(texto[:3])"
   ]
  },
  {
   "cell_type": "code",
   "execution_count": 4,
   "id": "b193403d",
   "metadata": {},
   "outputs": [
    {
     "name": "stdout",
     "output_type": "stream",
     "text": [
      "e\n"
     ]
    }
   ],
   "source": [
    "print(texto[-4])"
   ]
  },
  {
   "cell_type": "code",
   "execution_count": 6,
   "id": "684afc90",
   "metadata": {},
   "outputs": [
    {
     "name": "stdout",
     "output_type": "stream",
     "text": [
      "lagel aossep amu é leinaD\n"
     ]
    }
   ],
   "source": [
    "print(texto[::-1])"
   ]
  },
  {
   "cell_type": "code",
   "execution_count": 11,
   "id": "a2430cb6",
   "metadata": {},
   "outputs": [
    {
     "name": "stdout",
     "output_type": "stream",
     "text": [
      "DANIEL É UMA PESSOA LEGAL\n"
     ]
    }
   ],
   "source": [
    "print(texto.upper())"
   ]
  },
  {
   "cell_type": "code",
   "execution_count": 12,
   "id": "5c5a97a2",
   "metadata": {},
   "outputs": [
    {
     "name": "stdout",
     "output_type": "stream",
     "text": [
      "['Daniel', 'é', 'uma', 'pessoa', 'legal']\n"
     ]
    }
   ],
   "source": [
    "print(texto.split())"
   ]
  },
  {
   "cell_type": "code",
   "execution_count": null,
   "id": "ce12f7db",
   "metadata": {},
   "outputs": [],
   "source": []
  }
 ],
 "metadata": {
  "kernelspec": {
   "display_name": "Python 3 (ipykernel)",
   "language": "python",
   "name": "python3"
  },
  "language_info": {
   "codemirror_mode": {
    "name": "ipython",
    "version": 3
   },
   "file_extension": ".py",
   "mimetype": "text/x-python",
   "name": "python",
   "nbconvert_exporter": "python",
   "pygments_lexer": "ipython3",
   "version": "3.9.13"
  }
 },
 "nbformat": 4,
 "nbformat_minor": 5
}
