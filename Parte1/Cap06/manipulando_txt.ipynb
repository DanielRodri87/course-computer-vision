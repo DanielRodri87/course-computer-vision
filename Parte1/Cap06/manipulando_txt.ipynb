{
 "cells": [
  {
   "cell_type": "markdown",
   "metadata": {},
   "source": [
    "## Manipulando Arquivos TXT\n",
    "\n",
    "TXT é a extensão de arquivo para arquivos de texto puro. Um arquivo TXT é um arquivo de texto simples sem formatação, como negrito, itálico ou fontes diferentes. Ele pode ser aberto e editado com muitos aplicativos diferentes, incluindo editores de texto, processadores de texto e IDEs. Arquivos TXT são amplamente utilizados para armazenar dados de texto simples, como listas, notas e documentos de texto. Eles são universais e podem ser lidos em praticamente qualquer dispositivo ou sistema operacional."
   ]
  },
  {
   "cell_type": "code",
   "execution_count": 3,
   "metadata": {},
   "outputs": [
    {
     "name": "stdout",
     "output_type": "stream",
     "text": [
      "Esse teste vai me ajudar a entender Como é o funcionamento do mundo E, Claro, como posso trabalhar com dados\n"
     ]
    }
   ],
   "source": [
    "texto = \"Esse teste vai me ajudar a entender \"\n",
    "texto = texto + \"Como é o funcionamento do mundo \"\n",
    "texto += \"E, Claro, como posso trabalhar com dados\"\n",
    "\n",
    "print(texto)"
   ]
  },
  {
   "cell_type": "markdown",
   "metadata": {},
   "source": [
    "# Escrevendo"
   ]
  },
  {
   "cell_type": "code",
   "execution_count": 4,
   "metadata": {},
   "outputs": [],
   "source": [
    "#Importo o módulo os para fazer a comunicação com o sistema\n",
    "import os\n",
    "\n",
    "# Crio um arquivo txt\n",
    "arquivo = open(os.path.join(\"arquivos/cientista.txt\"), \"w\")\n",
    "\n",
    "for palavra in texto.split():\n",
    "    arquivo.write(f\"{palavra} \")\n",
    "    \n",
    "arquivo.close()"
   ]
  },
  {
   "cell_type": "markdown",
   "metadata": {},
   "source": [
    "# Lendo"
   ]
  },
  {
   "cell_type": "code",
   "execution_count": 6,
   "metadata": {},
   "outputs": [
    {
     "name": "stdout",
     "output_type": "stream",
     "text": [
      "Esse teste vai me ajudar a entender Como é o funcionamento do mundo E, Claro, como posso trabalhar com dados \n"
     ]
    }
   ],
   "source": [
    "arquivo = open(\"arquivos/cientista.txt\")\n",
    "\n",
    "print(arquivo.read())\n",
    "\n",
    "arquivo.close()"
   ]
  },
  {
   "cell_type": "markdown",
   "metadata": {},
   "source": [
    "## Conhecendo a expressão with, que é usada para abrir um arquivo e garantir que ele seja fechado corretamente após o término do bloco de código."
   ]
  },
  {
   "cell_type": "code",
   "execution_count": 7,
   "metadata": {},
   "outputs": [
    {
     "name": "stdout",
     "output_type": "stream",
     "text": [
      "Esse teste vai me ajudar a entender Como é o funcionamento do mundo E, Claro, como posso trabalhar com dados \n"
     ]
    }
   ],
   "source": [
    "with open('arquivos/cientista.txt', 'r') as arquivo:\n",
    "    conteudo = arquivo.read()\n",
    "    \n",
    "print(conteudo)"
   ]
  },
  {
   "cell_type": "code",
   "execution_count": 8,
   "metadata": {},
   "outputs": [
    {
     "name": "stdout",
     "output_type": "stream",
     "text": [
      "109\n"
     ]
    }
   ],
   "source": [
    "print(len(conteudo))"
   ]
  },
  {
   "cell_type": "code",
   "execution_count": 9,
   "metadata": {},
   "outputs": [],
   "source": [
    "# testando se aprendi mesmo, não tem na vídeo aula\n",
    "\n",
    "with open('arquivos/cientista.txt', 'a') as arquivo:\n",
    "    arquivo.write(\"\\n\\nOlha a informação nova chegando\")"
   ]
  }
 ],
 "metadata": {
  "kernelspec": {
   "display_name": "Python 3",
   "language": "python",
   "name": "python3"
  },
  "language_info": {
   "codemirror_mode": {
    "name": "ipython",
    "version": 3
   },
   "file_extension": ".py",
   "mimetype": "text/x-python",
   "name": "python",
   "nbconvert_exporter": "python",
   "pygments_lexer": "ipython3",
   "version": "3.10.11"
  }
 },
 "nbformat": 4,
 "nbformat_minor": 2
}
