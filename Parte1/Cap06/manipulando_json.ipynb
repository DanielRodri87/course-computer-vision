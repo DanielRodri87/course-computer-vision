{
 "cells": [
  {
   "cell_type": "code",
   "execution_count": 1,
   "metadata": {},
   "outputs": [],
   "source": [
    "# Criando um dicionário\n",
    "dict_guiado = {'nome': \"daniel\", 'notas': [10, 10, 9.9], \"user\": \"DanielRodri87\"}"
   ]
  },
  {
   "cell_type": "code",
   "execution_count": 6,
   "metadata": {},
   "outputs": [
    {
     "name": "stdout",
     "output_type": "stream",
     "text": [
      "nome daniel\n",
      "notas [10, 10, 9.9]\n",
      "user DanielRodri87\n"
     ]
    }
   ],
   "source": [
    "for k, v in dict_guiado.items():\n",
    "    print(k, v)"
   ]
  },
  {
   "cell_type": "code",
   "execution_count": 7,
   "metadata": {},
   "outputs": [],
   "source": [
    "import json"
   ]
  },
  {
   "cell_type": "code",
   "execution_count": 8,
   "metadata": {},
   "outputs": [
    {
     "data": {
      "text/plain": [
       "'{\"nome\": \"daniel\", \"notas\": [10, 10, 9.9], \"user\": \"DanielRodri87\"}'"
      ]
     },
     "execution_count": 8,
     "metadata": {},
     "output_type": "execute_result"
    }
   ],
   "source": [
    "# Convertendo de dicionário para Json\n",
    "json.dumps(dict_guiado)"
   ]
  },
  {
   "cell_type": "code",
   "execution_count": 16,
   "metadata": {},
   "outputs": [],
   "source": [
    "# Gravando os dados\n",
    "with open(\"arquivos/dados.json\", \"w\") as arquivos:\n",
    "    arquivos.write(json.dumps(dict_guiado))"
   ]
  },
  {
   "cell_type": "code",
   "execution_count": 21,
   "metadata": {},
   "outputs": [
    {
     "data": {
      "text/plain": [
       "{'nome': 'daniel', 'notas': [10, 10, 9.9], 'user': 'DanielRodri87'}"
      ]
     },
     "execution_count": 21,
     "metadata": {},
     "output_type": "execute_result"
    }
   ],
   "source": [
    "# Lendo os dados\n",
    "with open(\"arquivos/dados.json\", \"r\") as arquivos:\n",
    "    saida = arquivos.read()\n",
    "    dados = json.loads(saida)\n",
    "\n",
    "dados['nome']\n",
    "dados"
   ]
  }
 ],
 "metadata": {
  "kernelspec": {
   "display_name": "Python 3",
   "language": "python",
   "name": "python3"
  },
  "language_info": {
   "codemirror_mode": {
    "name": "ipython",
    "version": 3
   },
   "file_extension": ".py",
   "mimetype": "text/x-python",
   "name": "python",
   "nbconvert_exporter": "python",
   "pygments_lexer": "ipython3",
   "version": "3.10.11"
  }
 },
 "nbformat": 4,
 "nbformat_minor": 2
}
