{
 "cells": [
  {
   "cell_type": "code",
   "execution_count": 1,
   "metadata": {},
   "outputs": [],
   "source": [
    "import csv\n",
    "import pandas as pd\n"
   ]
  },
  {
   "cell_type": "markdown",
   "metadata": {},
   "source": [
    "## Gravando"
   ]
  },
  {
   "cell_type": "code",
   "execution_count": 2,
   "metadata": {},
   "outputs": [],
   "source": [
    "with open(\"arquivos/numeros.csv\", \"w\") as arquivo:\n",
    "    # Cria o objeto de gravação\n",
    "    writer = csv.writer(arquivo)\n",
    "    \n",
    "    # gravando linha a linha\n",
    "    writer.writerow((\"Nota 1\", \"Nota 2\", \"Nota 3\"))\n",
    "    writer.writerow((10.0, 7.5, 8.0))\n",
    "    writer.writerow((2.0, 9.5, 1.0))\n",
    "    writer.writerow((10.0, 5.5, 8.0))\n",
    "    writer.writerow((4.0, 9.5, 8.0))\n",
    "    writer.writerow((6.0, 7.5, 9.0))"
   ]
  },
  {
   "cell_type": "markdown",
   "metadata": {},
   "source": [
    "## Lendo"
   ]
  },
  {
   "cell_type": "code",
   "execution_count": 5,
   "metadata": {},
   "outputs": [
    {
     "name": "stdout",
     "output_type": "stream",
     "text": [
      "['Nota 1', 'Nota 2', 'Nota 3']\n",
      "['10.0', '7.5', '8.0']\n",
      "['2.0', '9.5', '1.0']\n",
      "['10.0', '5.5', '8.0']\n",
      "['4.0', '9.5', '8.0']\n",
      "['6.0', '7.5', '9.0']\n"
     ]
    }
   ],
   "source": [
    "with open(\"arquivos/numeros.csv\", \"r\", encoding=\"utf8\", newline=\"\\r\\n\") as arquivo:\n",
    "    leitor = csv.reader(arquivo)\n",
    "    for x in leitor:\n",
    "        print(x)"
   ]
  },
  {
   "cell_type": "markdown",
   "metadata": {},
   "source": [
    "## Criando uma lista com os dados"
   ]
  },
  {
   "cell_type": "code",
   "execution_count": 6,
   "metadata": {},
   "outputs": [
    {
     "name": "stdout",
     "output_type": "stream",
     "text": [
      "[['Nota 1', 'Nota 2', 'Nota 3'], ['10.0', '7.5', '8.0'], ['2.0', '9.5', '1.0'], ['10.0', '5.5', '8.0'], ['4.0', '9.5', '8.0'], ['6.0', '7.5', '9.0']]\n"
     ]
    }
   ],
   "source": [
    "data = []\n",
    "with open(\"arquivos/numeros.csv\", \"r\", encoding=\"utf8\", newline=\"\\r\\n\") as arquivo:\n",
    "    leitor = csv.reader(arquivo)\n",
    "    for x in leitor:\n",
    "        data.append(x)\n",
    "        \n",
    "print(data)"
   ]
  },
  {
   "cell_type": "code",
   "execution_count": 8,
   "metadata": {},
   "outputs": [
    {
     "name": "stdout",
     "output_type": "stream",
     "text": [
      "['10.0', '7.5', '8.0']\n",
      "['2.0', '9.5', '1.0']\n",
      "['10.0', '5.5', '8.0']\n",
      "['4.0', '9.5', '8.0']\n",
      "['6.0', '7.5', '9.0']\n"
     ]
    }
   ],
   "source": [
    "# Imprimindo sem o cabeçalho\n",
    "for i in data[1:]:\n",
    "    print(i)"
   ]
  }
 ],
 "metadata": {
  "kernelspec": {
   "display_name": "Python 3",
   "language": "python",
   "name": "python3"
  },
  "language_info": {
   "codemirror_mode": {
    "name": "ipython",
    "version": 3
   },
   "file_extension": ".py",
   "mimetype": "text/x-python",
   "name": "python",
   "nbconvert_exporter": "python",
   "pygments_lexer": "ipython3",
   "version": "3.10.11"
  }
 },
 "nbformat": 4,
 "nbformat_minor": 2
}
