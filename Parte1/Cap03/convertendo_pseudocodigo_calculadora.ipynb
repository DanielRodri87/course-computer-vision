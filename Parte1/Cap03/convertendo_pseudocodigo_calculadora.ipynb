{
 "cells": [
  {
   "cell_type": "code",
   "execution_count": null,
   "id": "63452d36",
   "metadata": {},
   "outputs": [],
   "source": [
    "print(\"Seja bem vindo a calculadora\")"
   ]
  },
  {
   "cell_type": "code",
   "execution_count": null,
   "id": "8ef8161f",
   "metadata": {},
   "outputs": [],
   "source": [
    "num1 = float(input(\"Digite o primeiro número: \"))"
   ]
  },
  {
   "cell_type": "code",
   "execution_count": null,
   "id": "790500b8",
   "metadata": {},
   "outputs": [],
   "source": [
    "num2 = float(input(\"Digite o segundo número: \"))"
   ]
  },
  {
   "cell_type": "code",
   "execution_count": null,
   "id": "4e5be65b",
   "metadata": {},
   "outputs": [],
   "source": [
    "op = int(input(\"oi: \"))"
   ]
  },
  {
   "cell_type": "code",
   "execution_count": null,
   "id": "5e00c882",
   "metadata": {},
   "outputs": [],
   "source": [
    "saida = 0"
   ]
  },
  {
   "cell_type": "code",
   "execution_count": null,
   "id": "05429828",
   "metadata": {},
   "outputs": [],
   "source": [
    "if op == 1:\n",
    "    saida = num1+num2"
   ]
  },
  {
   "cell_type": "code",
   "execution_count": null,
   "id": "8ab8350e",
   "metadata": {},
   "outputs": [],
   "source": [
    "elif op == 2:\n",
    "    saida = num1-num2"
   ]
  },
  {
   "cell_type": "code",
   "execution_count": null,
   "id": "6a40ba0c",
   "metadata": {},
   "outputs": [],
   "source": [
    "elif op == 3:\n",
    "    saida = num1*num2"
   ]
  },
  {
   "cell_type": "code",
   "execution_count": null,
   "id": "d85f25a9",
   "metadata": {},
   "outputs": [],
   "source": [
    "elif op == 4:\n",
    "    saida = num1/num2\n",
    "    "
   ]
  },
  {
   "cell_type": "code",
   "execution_count": null,
   "id": "ef7f73e2",
   "metadata": {},
   "outputs": [],
   "source": [
    "else:\n",
    "    print(\"Opção inválida\")"
   ]
  },
  {
   "cell_type": "code",
   "execution_count": null,
   "id": "f8097fe1",
   "metadata": {},
   "outputs": [],
   "source": [
    "print(f\"A saida é: {saida}\")"
   ]
  }
 ],
 "metadata": {
  "kernelspec": {
   "display_name": "Python 3 (ipykernel)",
   "language": "python",
   "name": "python3"
  },
  "language_info": {
   "codemirror_mode": {
    "name": "ipython",
    "version": 3
   },
   "file_extension": ".py",
   "mimetype": "text/x-python",
   "name": "python",
   "nbconvert_exporter": "python",
   "pygments_lexer": "ipython3",
   "version": "3.9.13"
  }
 },
 "nbformat": 4,
 "nbformat_minor": 5
}
