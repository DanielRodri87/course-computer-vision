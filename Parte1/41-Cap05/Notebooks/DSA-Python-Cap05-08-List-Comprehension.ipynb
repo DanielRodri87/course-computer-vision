{
 "cells": [
  {
   "cell_type": "markdown",
   "metadata": {},
   "source": [
    "# <font color='blue'>Data Science Academy</font>\n",
    "\n",
    "## <font color='blue'>Fundamentos de Linguagem Python Para Análise de Dados e Data Science</font>\n",
    "\n",
    "## <font color='blue'>Capítulo 5 - List Comprehension</font>"
   ]
  },
  {
   "cell_type": "code",
   "execution_count": 1,
   "metadata": {},
   "outputs": [
    {
     "name": "stdout",
     "output_type": "stream",
     "text": [
      "Versão da Linguagem Python Usada Neste Jupyter Notebook: 3.9.13\n"
     ]
    }
   ],
   "source": [
    "# Versão da Linguagem Python\n",
    "from platform import python_version\n",
    "print('Versão da Linguagem Python Usada Neste Jupyter Notebook:', python_version())"
   ]
  },
  {
   "cell_type": "markdown",
   "metadata": {},
   "source": [
    "## List Comprehension\n",
    "\n",
    "[expressão for item in iterable if condição == True]\n"
   ]
  },
  {
   "cell_type": "code",
   "execution_count": 2,
   "metadata": {},
   "outputs": [
    {
     "data": {
      "text/plain": [
       "[0, 1, 2, 3, 4, 5, 6, 7, 8, 9]"
      ]
     },
     "execution_count": 2,
     "metadata": {},
     "output_type": "execute_result"
    }
   ],
   "source": [
    "# List comprehension que imprime os números até 10\n",
    "[x for x in range(10)]"
   ]
  },
  {
   "cell_type": "code",
   "execution_count": 3,
   "metadata": {},
   "outputs": [],
   "source": [
    "# List comprehension que imprime os números até 10 e grava em uma lista Python\n",
    "lista_numeros = [x for x in range(10)]"
   ]
  },
  {
   "cell_type": "code",
   "execution_count": 4,
   "metadata": {},
   "outputs": [
    {
     "name": "stdout",
     "output_type": "stream",
     "text": [
      "[0, 1, 2, 3, 4, 5, 6, 7, 8, 9]\n"
     ]
    }
   ],
   "source": [
    "print(lista_numeros)"
   ]
  },
  {
   "cell_type": "code",
   "execution_count": 5,
   "metadata": {},
   "outputs": [
    {
     "name": "stdout",
     "output_type": "stream",
     "text": [
      "[0, 1, 2, 3, 4]\n"
     ]
    }
   ],
   "source": [
    "# List comprehension que imprime os números menores que 5 em um intervalo de 1 a 10\n",
    "lista_numeros = [x for x in range(10) if x < 5]\n",
    "print(lista_numeros)"
   ]
  },
  {
   "cell_type": "code",
   "execution_count": 6,
   "metadata": {},
   "outputs": [],
   "source": [
    "# Lista de frutas\n",
    "lista_frutas = [\"banana\", \"abacate\", \"melancia\", \"cereja\", \"manga\"]\n",
    "\n",
    "# Nova lista\n",
    "nova_lista = []"
   ]
  },
  {
   "cell_type": "code",
   "execution_count": 7,
   "metadata": {},
   "outputs": [
    {
     "name": "stdout",
     "output_type": "stream",
     "text": [
      "['melancia', 'manga']\n"
     ]
    }
   ],
   "source": [
    "# Loop tradicional para buscar as palavras com letra \"m\"\n",
    "for x in lista_frutas:\n",
    "    if \"m\" in x:\n",
    "        nova_lista.append(x)\n",
    "\n",
    "print(nova_lista)"
   ]
  },
  {
   "cell_type": "code",
   "execution_count": 8,
   "metadata": {},
   "outputs": [
    {
     "name": "stdout",
     "output_type": "stream",
     "text": [
      "['melancia', 'manga']\n"
     ]
    }
   ],
   "source": [
    "# Mesmo resultado anterior mas com list comprehension\n",
    "nova_lista = [x for x in lista_frutas if \"m\" in x]\n",
    "print(nova_lista)"
   ]
  },
  {
   "cell_type": "code",
   "execution_count": 9,
   "metadata": {},
   "outputs": [
    {
     "name": "stdout",
     "output_type": "stream",
     "text": [
      "{'Bob': 68, 'Michel': 84, 'Zico': 57, 'Ana': 93}\n"
     ]
    }
   ],
   "source": [
    "# Dict comprehension\n",
    "\n",
    "# Dicionário de alunos e notas\n",
    "dict_alunos = {'Bob': 68, 'Michel': 84, 'Zico': 57, 'Ana': 93}\n",
    "\n",
    "# Criamos um novo dicionário imprimindo os pares de chave:valor\n",
    "dict_alunos_status = {k:v for (k, v) in dict_alunos.items()}\n",
    "print(dict_alunos_status)"
   ]
  },
  {
   "cell_type": "code",
   "execution_count": 10,
   "metadata": {},
   "outputs": [
    {
     "name": "stdout",
     "output_type": "stream",
     "text": [
      "{'Bob': 'Reprovado', 'Michel': 'Aprovado', 'Zico': 'Reprovado', 'Ana': 'Aprovado'}\n"
     ]
    }
   ],
   "source": [
    "# Dict comprehension\n",
    "\n",
    "# Dicionário de alunos e notas\n",
    "dict_alunos = {'Bob': 68, 'Michel': 84, 'Zico': 57, 'Ana': 93}\n",
    "\n",
    "# Criamos um novo dicionário com o status: nota maior que 70, aprovado, senão, reprovado\n",
    "dict_alunos_status = {k:('Aprovado' if v > 70 else 'Reprovado') for (k, v) in dict_alunos.items()}\n",
    "print(dict_alunos_status)"
   ]
  },
  {
   "cell_type": "markdown",
   "metadata": {},
   "source": [
    "# Fim"
   ]
  },
  {
   "cell_type": "markdown",
   "metadata": {},
   "source": [
    "### Obrigado\n",
    "\n",
    "### Visite o Blog da Data Science Academy - <a href=\"http://blog.dsacademy.com.br\">Blog DSA</a>"
   ]
  }
 ],
 "metadata": {
  "kernelspec": {
   "display_name": "Python 3 (ipykernel)",
   "language": "python",
   "name": "python3"
  },
  "language_info": {
   "codemirror_mode": {
    "name": "ipython",
    "version": 3
   },
   "file_extension": ".py",
   "mimetype": "text/x-python",
   "name": "python",
   "nbconvert_exporter": "python",
   "pygments_lexer": "ipython3",
   "version": "3.9.13"
  }
 },
 "nbformat": 4,
 "nbformat_minor": 1
}
