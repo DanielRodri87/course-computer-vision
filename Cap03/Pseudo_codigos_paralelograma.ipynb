{
 "cells": [
  {
   "cell_type": "markdown",
   "id": "29659b83",
   "metadata": {},
   "source": [
    "Faça um código que calcule a área de um paralelograma"
   ]
  },
  {
   "cell_type": "code",
   "execution_count": 2,
   "id": "fc2c6896",
   "metadata": {},
   "outputs": [
    {
     "name": "stdout",
     "output_type": "stream",
     "text": [
      "Bem-vindo a calculadora de Paralelograma\n",
      "Digite a primeira área: 21.76\n",
      "Digite a segunda área: 12\n",
      "A saida é: 261.12\n"
     ]
    }
   ],
   "source": [
    "print(\"Bem-vindo a calculadora de Paralelograma\")\n",
    "num1 = float(input(\"Digite a primeira área: \"))\n",
    "num2 = float(input(\"Digite a segunda área: \"))\n",
    "\n",
    "saida = num1*num2\n",
    "print(f\"A saida é: {saida:.2f}\")"
   ]
  },
  {
   "cell_type": "code",
   "execution_count": null,
   "id": "b393169f",
   "metadata": {},
   "outputs": [],
   "source": []
  }
 ],
 "metadata": {
  "kernelspec": {
   "display_name": "Python 3 (ipykernel)",
   "language": "python",
   "name": "python3"
  },
  "language_info": {
   "codemirror_mode": {
    "name": "ipython",
    "version": 3
   },
   "file_extension": ".py",
   "mimetype": "text/x-python",
   "name": "python",
   "nbconvert_exporter": "python",
   "pygments_lexer": "ipython3",
   "version": "3.9.13"
  }
 },
 "nbformat": 4,
 "nbformat_minor": 5
}
