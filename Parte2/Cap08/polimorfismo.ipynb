{
 "cells": [
  {
   "cell_type": "markdown",
   "metadata": {},
   "source": [
    "## Polimorfismo de Classes em Python\n",
    "\n",
    "O polimorfismo é a capacidade de um objeto poder ser referenciado de várias formas. Em Python, o polimorfismo é implementado através de classes e métodos.\n"
   ]
  },
  {
   "cell_type": "code",
   "execution_count": 1,
   "metadata": {},
   "outputs": [],
   "source": [
    "class Veiculo(): # Super Classe\n",
    "    def __init__(self, marca, modelo):\n",
    "        self.marca = marca\n",
    "        self.modelo = modelo\n",
    "    \n",
    "    def frear(self):\n",
    "        pass\n",
    "    \n",
    "    def acelerar(self):\n",
    "        pass   "
   ]
  },
  {
   "cell_type": "code",
   "execution_count": 3,
   "metadata": {},
   "outputs": [],
   "source": [
    "class Carro(Veiculo):\n",
    "    def frear(self):\n",
    "        print(\"Carro freando\")\n",
    "    \n",
    "    def acelerar(self):\n",
    "        print(\"Carro acelerando\")\n",
    "        \n",
    "class Moto(Veiculo):\n",
    "    def frear(self):\n",
    "        print(\"Moto freando\")\n",
    "    \n",
    "    def acelerar(self):\n",
    "        print(\"Moto acelerando\")\n",
    "\n",
    "class Aviao(Veiculo):\n",
    "    def frear(self):\n",
    "        print(\"Aviao freando\")\n",
    "    \n",
    "    def acelerar(self):\n",
    "        print(\"Aviao acelerando\")\n",
    "    \n",
    "    def decolar(self):\n",
    "        print(\"O aviao esta decolando\")"
   ]
  },
  {
   "cell_type": "code",
   "execution_count": 7,
   "metadata": {},
   "outputs": [
    {
     "name": "stdout",
     "output_type": "stream",
     "text": [
      "Carro freando\n",
      "Carro acelerando\n",
      "<class '__main__.Carro'>\n",
      "Moto freando\n",
      "Moto acelerando\n",
      "<class '__main__.Moto'>\n",
      "Aviao freando\n",
      "Aviao acelerando\n",
      "<class '__main__.Aviao'>\n",
      "O aviao esta decolando\n"
     ]
    }
   ],
   "source": [
    "# Manipulando\n",
    "veiculos = [Carro(\"Chevrolet\", \"D10\"), Moto(\"Honda\", \"Pop100\"), Aviao(\"Boeing\", \"747\")]\n",
    "\n",
    "for i in veiculos:\n",
    "    i.frear()\n",
    "    i.acelerar()\n",
    "    print(type(i))\n",
    "    \n",
    "    if (isinstance(i, Aviao)):\n",
    "        i.decolar()"
   ]
  }
 ],
 "metadata": {
  "kernelspec": {
   "display_name": "Python 3",
   "language": "python",
   "name": "python3"
  },
  "language_info": {
   "codemirror_mode": {
    "name": "ipython",
    "version": 3
   },
   "file_extension": ".py",
   "mimetype": "text/x-python",
   "name": "python",
   "nbconvert_exporter": "python",
   "pygments_lexer": "ipython3",
   "version": "3.10.11"
  }
 },
 "nbformat": 4,
 "nbformat_minor": 2
}
