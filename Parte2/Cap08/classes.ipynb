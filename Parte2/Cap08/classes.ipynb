{
 "cells": [
  {
   "cell_type": "markdown",
   "metadata": {},
   "source": [
    "Em python, tudo é objeto. Isso significa que até mesmo as funções são objetos. Isso permite que você passe funções como argumentos para outras funções, o que é muito útil para programação funcional."
   ]
  },
  {
   "cell_type": "markdown",
   "metadata": {},
   "source": [
    "# Classes\n",
    "classes são uma forma de organizar e criar objetos. Em python, você pode criar classes com a palavra-chave `class`. \n",
    "\n",
    "```python"
   ]
  },
  {
   "cell_type": "code",
   "execution_count": 3,
   "metadata": {},
   "outputs": [
    {
     "name": "stdout",
     "output_type": "stream",
     "text": [
      "O titulo do livro é: Python for pedras\n",
      "O isbn do livro é: 8878\n",
      "Python for pedras - 8878\n"
     ]
    },
    {
     "data": {
      "text/plain": [
       "__main__.Livro"
      ]
     },
     "execution_count": 3,
     "metadata": {},
     "output_type": "execute_result"
    }
   ],
   "source": [
    "class Livro:\n",
    "    def __init__(self, titulo, isbn):\n",
    "        self.titulo = titulo\n",
    "        self.isbn = isbn\n",
    "    \n",
    "    def exibir(self):\n",
    "        print(f\"{self.titulo} - {self.isbn}\")\n",
    "\n",
    "livro = Livro('Python for pedras', 8878)\n",
    "\n",
    "print(f'O titulo do livro é: {livro.titulo}')\n",
    "print(f'O isbn do livro é: {livro.isbn}')\n",
    "\n",
    "livro.exibir()\n",
    "type(livro)"
   ]
  }
 ],
 "metadata": {
  "kernelspec": {
   "display_name": "Python 3",
   "language": "python",
   "name": "python3"
  },
  "language_info": {
   "codemirror_mode": {
    "name": "ipython",
    "version": 3
   },
   "file_extension": ".py",
   "mimetype": "text/x-python",
   "name": "python",
   "nbconvert_exporter": "python",
   "pygments_lexer": "ipython3",
   "version": "3.10.11"
  }
 },
 "nbformat": 4,
 "nbformat_minor": 2
}
