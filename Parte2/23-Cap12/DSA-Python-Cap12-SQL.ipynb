{
 "cells": [
  {
   "cell_type": "markdown",
   "metadata": {},
   "source": [
    "# <font color='blue'>Data Science Academy</font>\n",
    "\n",
    "## <font color='blue'>Fundamentos de Linguagem Python Para Análise de Dados e Data Science</font>\n",
    "\n",
    "## <font color='blue'>Análise de Dados com Python e Linguagem SQL</font>"
   ]
  },
  {
   "cell_type": "markdown",
   "metadata": {},
   "source": [
    "**Por Que a Linguagem SQL é Fundamental Para Profissionais de Dados?**\n",
    "\n",
    "A Linguagem SQL (Structured Query Language) é fundamental para profissionais de dados por várias razões:\n",
    "\n",
    "- **Padrão Universal**: SQL é uma linguagem padrão e amplamente aceita para gerenciamento e consulta de bancos de dados relacionais. Independentemente do sistema gerenciador de banco de dados (SGBD) utilizado, SQL é a linguagem comum para realizar consultas e manipulações de dados.\n",
    "\n",
    "\n",
    "- **Flexibilidade**: SQL permite criar consultas complexas e personalizadas, combinando dados de várias tabelas, filtrando informações e realizando operações de agregação e ordenação. Isso permite que os profissionais de dados extraiam informações valiosas a partir dos dados armazenados.\n",
    "\n",
    "\n",
    "- **Manipulação de Dados**: Além das consultas, SQL permite a inserção, atualização e exclusão de dados, bem como a definição de esquemas e gerenciamento de objetos de banco de dados, como tabelas, índices e visões.\n",
    "\n",
    "\n",
    "- **Controle de Acesso e Segurança**: SQL também oferece recursos para gerenciar o acesso e a segurança dos dados, permitindo aos profissionais de dados controlar quem pode acessar, modificar ou excluir informações no banco de dados.\n",
    "\n",
    "\n",
    "- **Alta Demanda no Mercado**: Profissionais de dados com habilidades em SQL estão em alta demanda, já que a linguagem é amplamente usada em várias áreas e setores. O conhecimento em SQL é uma habilidade essencial para cargos como <a href=\"https://www.datascienceacademy.com.br/bundle/formacao-analista-de-dados\">Analista de Dados</a>, <a href=\"https://www.datascienceacademy.com.br/bundle/formacao-cientista-de-dados\">Cientista de Dados</a>, <a href=\"https://www.datascienceacademy.com.br/bundle/formacao-engenheiro-de-dados\">Engenheiro de Dados</a> e Administrador de Banco de Dados.\n",
    "\n",
    "\n",
    "- **Integração com Outras Ferramentas e Tecnologias**: SQL se integra facilmente com outras ferramentas e linguagens de programação, como Python, R, Java, entre outras. Isso permite que os profissionais de dados aproveitem o poder da Linguagem SQL em conjunto com outras tecnologias para analisar, visualizar e processar dados.\n",
    "\n",
    "Dominar a linguagem SQL proporciona aos profissionais de dados uma base sólida para trabalhar com bancos de dados relacionais e extrair insights valiosos a partir deles. Aprender SQL é um passo essencial para qualquer pessoa que deseja ingressar ou progredir no campo da Análise e Ciência de dados. A Linguagem SQL é fundamental para profissionais de dados. \n",
    "\n",
    "**Onde Encontrar Material de Estudo?**\n",
    "\n",
    "Além deste capítulo que estudaremos agora, veja onde encontrar material sobre SQL aqui na DSA:\n",
    "\n",
    "- A Linguagem SQL (nível de introdução) é estudada em um capítulo inteiro no curso gratuito de <a href=\"https://www.datascienceacademy.com.br/course/microsoft-power-bi-para-business-intelligence-e-data-science\">Microsoft Power BI Para Business Intelligence e Data Science</a>.\n",
    "\n",
    "\n",
    "- A Linguagem SQL é estudada em diversos Labs do curso <a href=\"https://www.datascienceacademy.com.br/course/power-bi-avancado-para-analise-de-dados-com-dax\">Power BI Avançado Para Análise de Dados com DAX</a>.\n",
    "\n",
    "\n",
    "- A Linguagem SQL é estudada em detalhes no curso SQL Para Data Science, o primeiro da <a href=\"https://www.datascienceacademy.com.br/bundle/formacao-analista-de-dados\">Formação Analista de Dados</a>.\n",
    "\n",
    "\n",
    "- A Linguagem SQL é estudada em 4 dos 6 cursos da <a href=\"https://www.datascienceacademy.com.br/bundle/formacao-cientista-de-dados\">Formação Cientista de Dados</a> e usada em diversos Labs, Estudos de Caso, Mini-Projetos e Projetos.\n",
    "\n",
    "\n",
    "- A Linguagem SQL é estudada em um Lab completo no primeiro curso da <a href=\"https://www.datascienceacademy.com.br/bundle/formacao-engenheiro-de-dados\">Formação Engenheiro de Dados</a> e usada nos projetos de diversos cursos da Formação.\n",
    "\n",
    "\n",
    "- A Linguagem SQL é estudada em um capítulo inteiro (nível avançado) no segundo curso da <a href=\"https://www.datascienceacademy.com.br/bundle/formacao-arquiteto-de-dados\">Formação Arquiteto de Dados</a> e usada nos projetos de diversos cursos da Formação.\n",
    "\n",
    "\n",
    "- No curso de Excel Avançado, (curso de bônus gratuito e exclusivo para os alunos das Formações DSA) há um Lab demonstrando passo a passo como usar SQL dentro do Excel."
   ]
  },
  {
   "cell_type": "markdown",
   "metadata": {},
   "source": [
    "![DSA](imagens/dsa_cap12.png)"
   ]
  },
  {
   "cell_type": "code",
   "execution_count": 1,
   "metadata": {},
   "outputs": [
    {
     "name": "stdout",
     "output_type": "stream",
     "text": [
      "Versão da Linguagem Python Usada Neste Jupyter Notebook: 3.9.13\n"
     ]
    }
   ],
   "source": [
    "# Versão da Linguagem Python\n",
    "from platform import python_version\n",
    "print('Versão da Linguagem Python Usada Neste Jupyter Notebook:', python_version())"
   ]
  },
  {
   "cell_type": "markdown",
   "metadata": {},
   "source": [
    "Para este capítulo usaremos o SQLite: https://sqlite.org/index.html"
   ]
  },
  {
   "cell_type": "code",
   "execution_count": 2,
   "metadata": {},
   "outputs": [],
   "source": [
    "import sqlite3"
   ]
  },
  {
   "cell_type": "code",
   "execution_count": 3,
   "metadata": {},
   "outputs": [
    {
     "data": {
      "text/plain": [
       "'3.39.3'"
      ]
     },
     "execution_count": 3,
     "metadata": {},
     "output_type": "execute_result"
    }
   ],
   "source": [
    "sqlite3.sqlite_version"
   ]
  },
  {
   "cell_type": "code",
   "execution_count": 4,
   "metadata": {},
   "outputs": [],
   "source": [
    "import pandas as pd"
   ]
  },
  {
   "cell_type": "code",
   "execution_count": 5,
   "metadata": {},
   "outputs": [
    {
     "data": {
      "text/plain": [
       "'1.5.3'"
      ]
     },
     "execution_count": 5,
     "metadata": {},
     "output_type": "execute_result"
    }
   ],
   "source": [
    "pd.__version__"
   ]
  },
  {
   "cell_type": "markdown",
   "metadata": {},
   "source": [
    "## Conectando no Banco de Dados com Linguagem Python\n",
    "\n",
    "Leia o manual em pdf no Capítulo 12 do curso com a descrição completa do que é a Linguagem SQL!"
   ]
  },
  {
   "cell_type": "code",
   "execution_count": 6,
   "metadata": {},
   "outputs": [],
   "source": [
    "# Conecta no banco de dados\n",
    "con = sqlite3.connect('cap12_dsa.db')"
   ]
  },
  {
   "cell_type": "code",
   "execution_count": 7,
   "metadata": {},
   "outputs": [],
   "source": [
    "# Abre um cursor para percorrer os dados no banco de dados\n",
    "cursor = con.cursor()"
   ]
  },
  {
   "cell_type": "code",
   "execution_count": 8,
   "metadata": {},
   "outputs": [],
   "source": [
    "# Query SQL para extrair os nomes das colunas no banco de dados\n",
    "sql_query = \"\"\"SELECT name FROM sqlite_master WHERE type = 'table';\"\"\""
   ]
  },
  {
   "cell_type": "code",
   "execution_count": 9,
   "metadata": {},
   "outputs": [
    {
     "data": {
      "text/plain": [
       "<sqlite3.Cursor at 0x7f8f5cd4d730>"
      ]
     },
     "execution_count": 9,
     "metadata": {},
     "output_type": "execute_result"
    }
   ],
   "source": [
    "# Executa a query\n",
    "cursor.execute(sql_query)"
   ]
  },
  {
   "cell_type": "code",
   "execution_count": 10,
   "metadata": {},
   "outputs": [
    {
     "name": "stdout",
     "output_type": "stream",
     "text": [
      "[('tb_vendas_dsa',)]\n"
     ]
    }
   ],
   "source": [
    "# Visualiza o resultado\n",
    "print(cursor.fetchall())"
   ]
  },
  {
   "cell_type": "markdown",
   "metadata": {},
   "source": [
    "> A query abaixo retorna todas as linhas e todas as colunas da tabela."
   ]
  },
  {
   "cell_type": "code",
   "execution_count": 11,
   "metadata": {},
   "outputs": [],
   "source": [
    "# Cria uma instrução SQL\n",
    "query1 = 'SELECT * FROM tb_vendas_dsa'"
   ]
  },
  {
   "cell_type": "code",
   "execution_count": 12,
   "metadata": {},
   "outputs": [
    {
     "data": {
      "text/plain": [
       "<sqlite3.Cursor at 0x7f8f5cd4d730>"
      ]
     },
     "execution_count": 12,
     "metadata": {},
     "output_type": "execute_result"
    }
   ],
   "source": [
    "# Executa a query no banco de dados\n",
    "cursor.execute(query1)"
   ]
  },
  {
   "cell_type": "code",
   "execution_count": 13,
   "metadata": {},
   "outputs": [],
   "source": [
    "# List comprehension para visualizar os nomes das colunas\n",
    "nomes_colunas = [description[0] for description in cursor.description]"
   ]
  },
  {
   "cell_type": "code",
   "execution_count": 14,
   "metadata": {},
   "outputs": [
    {
     "name": "stdout",
     "output_type": "stream",
     "text": [
      "['ID_Pedido', 'ID_Cliente', 'Nome_Produto', 'Valor_Unitario', 'Unidades_Vendidas', 'Custo']\n"
     ]
    }
   ],
   "source": [
    "# Visualiza o resultado\n",
    "print(nomes_colunas)"
   ]
  },
  {
   "cell_type": "code",
   "execution_count": 15,
   "metadata": {},
   "outputs": [],
   "source": [
    "# Retorna os dados da execução da query\n",
    "dados = cursor.fetchall()"
   ]
  },
  {
   "cell_type": "code",
   "execution_count": 16,
   "metadata": {},
   "outputs": [
    {
     "data": {
      "text/plain": [
       "[(1, 63, 'Produto_38', 154.03, 7, 92.42),\n",
       " (2, 49, 'Produto_8', 171.52, 5, 102.91),\n",
       " (3, 83, 'Produto_39', 28.97, 13, 17.38),\n",
       " (4, 37, 'Produto_2', 104.55, 4, 62.73),\n",
       " (5, 19, 'Produto_1', 77.21, 19, 46.33),\n",
       " (6, 87, 'Produto_36', 161.97, 13, 97.18),\n",
       " (7, 59, 'Produto_24', 101.17, 7, 60.7),\n",
       " (8, 48, 'Produto_31', 92.03, 9, 55.22),\n",
       " (9, 73, 'Produto_4', 116.57, 6, 69.94),\n",
       " (10, 98, 'Produto_45', 46.16, 4, 27.7),\n",
       " (11, 86, 'Produto_30', 135.55, 12, 81.33),\n",
       " (12, 89, 'Produto_45', 119.4, 11, 71.64),\n",
       " (13, 96, 'Produto_11', 96.63, 13, 57.98),\n",
       " (14, 29, 'Produto_50', 191.3, 10, 114.78),\n",
       " (15, 63, 'Produto_21', 191.28, 14, 114.77),\n",
       " (16, 30, 'Produto_22', 67.58, 17, 40.55),\n",
       " (17, 5, 'Produto_41', 33.22, 2, 19.93),\n",
       " (18, 97, 'Produto_33', 67.77, 12, 40.66),\n",
       " (19, 19, 'Produto_18', 160.68, 15, 96.41),\n",
       " (20, 7, 'Produto_17', 34.37, 13, 20.62),\n",
       " (21, 79, 'Produto_1', 161.33, 15, 96.8),\n",
       " (22, 36, 'Produto_45', 184.7, 11, 110.82),\n",
       " (23, 94, 'Produto_21', 11.57, 1, 6.94),\n",
       " (24, 51, 'Produto_16', 103.49, 4, 62.09),\n",
       " (25, 37, 'Produto_32', 29.49, 17, 17.69),\n",
       " (26, 78, 'Produto_5', 86.93, 6, 52.16),\n",
       " (27, 78, 'Produto_24', 118.14, 1, 70.88),\n",
       " (28, 87, 'Produto_6', 38.12, 4, 22.87),\n",
       " (29, 88, 'Produto_7', 145.76, 13, 87.46),\n",
       " (30, 31, 'Produto_1', 85.55, 19, 51.33),\n",
       " (31, 2, 'Produto_37', 43.93, 11, 26.36),\n",
       " (32, 80, 'Produto_34', 167.69, 1, 100.61),\n",
       " (33, 76, 'Produto_2', 36.25, 13, 21.75),\n",
       " (34, 89, 'Produto_6', 163.48, 9, 98.09),\n",
       " (35, 61, 'Produto_34', 26.27, 17, 15.76),\n",
       " (36, 20, 'Produto_24', 171.27, 9, 102.76),\n",
       " (37, 64, 'Produto_32', 194.29, 6, 116.57),\n",
       " (38, 12, 'Produto_45', 137.65, 15, 82.59),\n",
       " (39, 45, 'Produto_14', 150.07, 10, 90.04),\n",
       " (40, 32, 'Produto_32', 169.94, 19, 101.96),\n",
       " (41, 55, 'Produto_25', 32.62, 14, 19.57),\n",
       " (42, 37, 'Produto_1', 109.69, 1, 65.81),\n",
       " (43, 72, 'Produto_39', 199.78, 16, 119.87),\n",
       " (44, 76, 'Produto_50', 164.47, 17, 98.68),\n",
       " (45, 88, 'Produto_11', 68.66, 16, 41.2),\n",
       " (46, 50, 'Produto_8', 25.03, 13, 15.02),\n",
       " (47, 23, 'Produto_25', 123.85, 20, 74.31),\n",
       " (48, 91, 'Produto_28', 26.14, 6, 15.68),\n",
       " (49, 9, 'Produto_31', 46.27, 3, 27.76),\n",
       " (50, 18, 'Produto_6', 155.63, 12, 93.38),\n",
       " (51, 80, 'Produto_7', 56.15, 11, 33.69),\n",
       " (52, 59, 'Produto_13', 124.63, 6, 74.78),\n",
       " (53, 88, 'Produto_22', 92.03, 4, 55.22),\n",
       " (54, 62, 'Produto_50', 154.84, 5, 92.9),\n",
       " (55, 39, 'Produto_27', 10.31, 5, 6.19),\n",
       " (56, 90, 'Produto_16', 30.1, 5, 18.06),\n",
       " (57, 19, 'Produto_18', 170.95, 20, 102.57),\n",
       " (58, 75, 'Produto_16', 104.94, 8, 62.96),\n",
       " (59, 4, 'Produto_49', 119.61, 17, 71.77),\n",
       " (60, 24, 'Produto_5', 102.72, 11, 61.63),\n",
       " (61, 36, 'Produto_48', 84.9, 19, 50.94),\n",
       " (62, 85, 'Produto_28', 51.01, 3, 30.61),\n",
       " (63, 9, 'Produto_8', 31.4, 3, 18.84),\n",
       " (64, 34, 'Produto_49', 37.23, 9, 22.34),\n",
       " (65, 54, 'Produto_32', 60.6, 2, 36.36),\n",
       " (66, 23, 'Produto_20', 194.8, 8, 116.88),\n",
       " (67, 14, 'Produto_42', 90.96, 18, 54.58),\n",
       " (68, 44, 'Produto_10', 191.3, 10, 114.78),\n",
       " (69, 85, 'Produto_43', 24.79, 12, 14.87),\n",
       " (70, 49, 'Produto_15', 47.9, 11, 28.74),\n",
       " (71, 78, 'Produto_28', 45.76, 8, 27.46),\n",
       " (72, 30, 'Produto_30', 91.74, 4, 55.04),\n",
       " (73, 56, 'Produto_34', 142.24, 6, 85.34),\n",
       " (74, 6, 'Produto_5', 125.28, 13, 75.17),\n",
       " (75, 36, 'Produto_20', 36.46, 1, 21.88),\n",
       " (76, 43, 'Produto_26', 98.92, 12, 59.35),\n",
       " (77, 37, 'Produto_11', 116.83, 20, 70.1),\n",
       " (78, 24, 'Produto_50', 25.82, 10, 15.49),\n",
       " (79, 98, 'Produto_36', 138.52, 17, 83.11),\n",
       " (80, 3, 'Produto_25', 198.07, 6, 118.84),\n",
       " (81, 96, 'Produto_23', 15.36, 11, 9.22),\n",
       " (82, 52, 'Produto_44', 55.17, 8, 33.1),\n",
       " (83, 50, 'Produto_4', 62.59, 17, 37.55),\n",
       " (84, 45, 'Produto_17', 199.62, 14, 119.77),\n",
       " (85, 69, 'Produto_22', 66.9, 20, 40.14),\n",
       " (86, 20, 'Produto_45', 152.84, 7, 91.7),\n",
       " (87, 91, 'Produto_28', 47.58, 11, 28.55),\n",
       " (88, 21, 'Produto_47', 146.07, 18, 87.64),\n",
       " (89, 66, 'Produto_43', 37.75, 5, 22.65),\n",
       " (90, 86, 'Produto_35', 72.53, 2, 43.52),\n",
       " (91, 20, 'Produto_3', 164.55, 20, 98.73),\n",
       " (92, 2, 'Produto_22', 86.69, 11, 52.01),\n",
       " (93, 67, 'Produto_41', 72.9, 14, 43.74),\n",
       " (94, 4, 'Produto_16', 38.61, 13, 23.17),\n",
       " (95, 89, 'Produto_29', 110.76, 12, 66.46),\n",
       " (96, 57, 'Produto_46', 190.45, 10, 114.27),\n",
       " (97, 60, 'Produto_4', 180.91, 16, 108.55),\n",
       " (98, 92, 'Produto_9', 64.0, 17, 38.4),\n",
       " (99, 59, 'Produto_6', 73.64, 16, 44.18),\n",
       " (100, 5, 'Produto_18', 33.03, 20, 19.82),\n",
       " (101, 59, 'Produto_27', 169.36, 13, 101.62),\n",
       " (102, 87, 'Produto_49', 163.09, 11, 97.85),\n",
       " (103, 14, 'Produto_17', 63.25, 17, 37.95),\n",
       " (104, 21, 'Produto_17', 17.27, 5, 10.36),\n",
       " (105, 20, 'Produto_2', 12.68, 4, 7.61),\n",
       " (106, 60, 'Produto_3', 90.23, 20, 54.14),\n",
       " (107, 25, 'Produto_14', 38.42, 3, 23.05),\n",
       " (108, 85, 'Produto_47', 71.75, 18, 43.05),\n",
       " (109, 14, 'Produto_37', 197.77, 14, 118.66),\n",
       " (110, 47, 'Produto_8', 36.92, 11, 22.15),\n",
       " (111, 61, 'Produto_25', 21.03, 7, 12.62),\n",
       " (112, 31, 'Produto_24', 149.85, 18, 89.91),\n",
       " (113, 70, 'Produto_24', 81.9, 15, 49.14),\n",
       " (114, 27, 'Produto_20', 163.77, 5, 98.26),\n",
       " (115, 94, 'Produto_31', 143.05, 5, 85.83),\n",
       " (116, 67, 'Produto_6', 191.16, 2, 114.7),\n",
       " (117, 99, 'Produto_31', 194.36, 13, 116.62),\n",
       " (118, 76, 'Produto_46', 151.54, 19, 90.92),\n",
       " (119, 1, 'Produto_15', 13.12, 7, 7.87),\n",
       " (120, 54, 'Produto_24', 139.93, 18, 83.96),\n",
       " (121, 28, 'Produto_34', 57.6, 18, 34.56),\n",
       " (122, 13, 'Produto_19', 46.08, 6, 27.65),\n",
       " (123, 84, 'Produto_12', 197.18, 15, 118.31),\n",
       " (124, 67, 'Produto_20', 173.43, 4, 104.06),\n",
       " (125, 57, 'Produto_19', 32.09, 8, 19.25),\n",
       " (126, 78, 'Produto_7', 25.64, 12, 15.38),\n",
       " (127, 12, 'Produto_43', 36.3, 4, 21.78),\n",
       " (128, 63, 'Produto_4', 186.5, 5, 111.9),\n",
       " (129, 46, 'Produto_38', 36.09, 4, 21.65),\n",
       " (130, 71, 'Produto_23', 136.71, 19, 82.03),\n",
       " (131, 87, 'Produto_32', 98.13, 14, 58.88),\n",
       " (132, 20, 'Produto_2', 81.85, 13, 49.11),\n",
       " (133, 87, 'Produto_27', 96.42, 8, 57.85),\n",
       " (134, 59, 'Produto_19', 18.39, 4, 11.03),\n",
       " (135, 64, 'Produto_42', 172.8, 15, 103.68),\n",
       " (136, 98, 'Produto_30', 75.19, 1, 45.11),\n",
       " (137, 26, 'Produto_18', 147.01, 1, 88.21),\n",
       " (138, 57, 'Produto_12', 128.0, 17, 76.8),\n",
       " (139, 14, 'Produto_42', 151.81, 5, 91.09),\n",
       " (140, 50, 'Produto_10', 131.38, 13, 78.83),\n",
       " (141, 37, 'Produto_23', 59.52, 16, 35.71),\n",
       " (142, 10, 'Produto_46', 111.6, 19, 66.96),\n",
       " (143, 46, 'Produto_1', 31.64, 7, 18.98),\n",
       " (144, 44, 'Produto_18', 148.22, 15, 88.93),\n",
       " (145, 3, 'Produto_1', 92.3, 6, 55.38),\n",
       " (146, 47, 'Produto_33', 102.3, 13, 61.38),\n",
       " (147, 18, 'Produto_47', 133.77, 3, 80.26),\n",
       " (148, 81, 'Produto_26', 91.64, 20, 54.98),\n",
       " (149, 45, 'Produto_33', 52.55, 20, 31.53),\n",
       " (150, 57, 'Produto_1', 135.48, 1, 81.29),\n",
       " (151, 52, 'Produto_28', 15.77, 15, 9.46),\n",
       " (152, 74, 'Produto_41', 128.05, 18, 76.83),\n",
       " (153, 74, 'Produto_8', 106.01, 6, 63.61),\n",
       " (154, 15, 'Produto_26', 158.71, 16, 95.23),\n",
       " (155, 22, 'Produto_31', 64.36, 10, 38.62),\n",
       " (156, 52, 'Produto_19', 89.42, 8, 53.65),\n",
       " (157, 22, 'Produto_15', 199.24, 8, 119.54),\n",
       " (158, 97, 'Produto_3', 23.01, 6, 13.81),\n",
       " (159, 38, 'Produto_39', 39.84, 16, 23.9),\n",
       " (160, 32, 'Produto_15', 37.74, 19, 22.64),\n",
       " (161, 79, 'Produto_44', 155.45, 12, 93.27),\n",
       " (162, 56, 'Produto_8', 33.42, 15, 20.05),\n",
       " (163, 45, 'Produto_18', 151.89, 12, 91.13),\n",
       " (164, 65, 'Produto_11', 105.63, 19, 63.38),\n",
       " (165, 41, 'Produto_30', 17.76, 10, 10.66),\n",
       " (166, 7, 'Produto_8', 100.81, 19, 60.49),\n",
       " (167, 35, 'Produto_42', 28.34, 7, 17.0),\n",
       " (168, 24, 'Produto_34', 37.89, 17, 22.73),\n",
       " (169, 41, 'Produto_29', 27.34, 12, 16.4),\n",
       " (170, 84, 'Produto_13', 184.2, 5, 110.52),\n",
       " (171, 84, 'Produto_12', 24.93, 7, 14.96),\n",
       " (172, 47, 'Produto_4', 28.03, 12, 16.82),\n",
       " (173, 77, 'Produto_39', 188.52, 19, 113.11),\n",
       " (174, 58, 'Produto_8', 103.24, 17, 61.94),\n",
       " (175, 42, 'Produto_11', 88.9, 20, 53.34),\n",
       " (176, 38, 'Produto_31', 93.94, 2, 56.36),\n",
       " (177, 85, 'Produto_46', 21.13, 17, 12.68),\n",
       " (178, 13, 'Produto_7', 183.36, 8, 110.02),\n",
       " (179, 21, 'Produto_9', 166.11, 2, 99.67),\n",
       " (180, 9, 'Produto_32', 141.85, 18, 85.11),\n",
       " (181, 54, 'Produto_2', 163.44, 3, 98.06),\n",
       " (182, 96, 'Produto_26', 105.53, 15, 63.32),\n",
       " (183, 39, 'Produto_41', 136.76, 15, 82.06),\n",
       " (184, 68, 'Produto_10', 122.17, 19, 73.3),\n",
       " (185, 34, 'Produto_30', 139.21, 15, 83.53),\n",
       " (186, 76, 'Produto_48', 195.24, 14, 117.14),\n",
       " (187, 77, 'Produto_20', 117.97, 4, 70.78),\n",
       " (188, 96, 'Produto_21', 55.59, 8, 33.35),\n",
       " (189, 15, 'Produto_4', 57.91, 1, 34.75),\n",
       " (190, 67, 'Produto_11', 123.17, 19, 73.9),\n",
       " (191, 28, 'Produto_35', 33.25, 9, 19.95),\n",
       " (192, 69, 'Produto_21', 194.8, 12, 116.88),\n",
       " (193, 54, 'Produto_8', 185.3, 3, 111.18),\n",
       " (194, 57, 'Produto_23', 26.6, 1, 15.96),\n",
       " (195, 70, 'Produto_9', 72.53, 4, 43.52),\n",
       " (196, 74, 'Produto_42', 194.13, 12, 116.48),\n",
       " (197, 8, 'Produto_10', 178.27, 13, 106.96),\n",
       " (198, 15, 'Produto_14', 39.89, 9, 23.93),\n",
       " (199, 67, 'Produto_32', 27.57, 12, 16.54),\n",
       " (200, 10, 'Produto_3', 57.05, 6, 34.23),\n",
       " (201, 49, 'Produto_7', 196.13, 20, 117.68),\n",
       " (202, 69, 'Produto_28', 13.59, 18, 8.15),\n",
       " (203, 31, 'Produto_24', 179.2, 15, 107.52),\n",
       " (204, 11, 'Produto_15', 57.46, 6, 34.48),\n",
       " (205, 69, 'Produto_16', 135.56, 9, 81.34),\n",
       " (206, 53, 'Produto_25', 84.87, 18, 50.92),\n",
       " (207, 34, 'Produto_33', 176.65, 14, 105.99),\n",
       " (208, 67, 'Produto_40', 104.03, 11, 62.42),\n",
       " (209, 6, 'Produto_27', 57.23, 15, 34.34),\n",
       " (210, 53, 'Produto_16', 80.74, 2, 48.44),\n",
       " (211, 67, 'Produto_18', 135.98, 13, 81.59),\n",
       " (212, 49, 'Produto_32', 183.56, 12, 110.14),\n",
       " (213, 64, 'Produto_16', 10.76, 11, 6.46),\n",
       " (214, 95, 'Produto_49', 105.74, 19, 63.44),\n",
       " (215, 28, 'Produto_32', 143.99, 7, 86.39),\n",
       " (216, 12, 'Produto_50', 119.96, 15, 71.98),\n",
       " (217, 18, 'Produto_41', 98.14, 14, 58.88),\n",
       " (218, 93, 'Produto_34', 95.91, 2, 57.55),\n",
       " (219, 10, 'Produto_23', 170.09, 13, 102.05),\n",
       " (220, 66, 'Produto_1', 71.92, 15, 43.15),\n",
       " (221, 75, 'Produto_47', 20.84, 6, 12.5),\n",
       " (222, 10, 'Produto_6', 167.62, 17, 100.57),\n",
       " (223, 8, 'Produto_16', 76.0, 4, 45.6),\n",
       " (224, 77, 'Produto_33', 18.36, 10, 11.02),\n",
       " (225, 36, 'Produto_45', 15.91, 5, 9.55),\n",
       " (226, 34, 'Produto_7', 38.07, 4, 22.84),\n",
       " (227, 76, 'Produto_7', 146.11, 20, 87.67),\n",
       " (228, 74, 'Produto_16', 45.61, 4, 27.37),\n",
       " (229, 95, 'Produto_32', 36.61, 6, 21.97),\n",
       " (230, 100, 'Produto_26', 65.84, 3, 39.5),\n",
       " (231, 8, 'Produto_10', 30.18, 1, 18.11),\n",
       " (232, 2, 'Produto_15', 13.74, 3, 8.24),\n",
       " (233, 40, 'Produto_25', 156.4, 1, 93.84),\n",
       " (234, 74, 'Produto_39', 28.19, 9, 16.91),\n",
       " (235, 4, 'Produto_16', 86.21, 2, 51.73),\n",
       " (236, 27, 'Produto_20', 89.4, 14, 53.64),\n",
       " (237, 61, 'Produto_2', 43.56, 6, 26.14),\n",
       " (238, 54, 'Produto_3', 134.81, 7, 80.89),\n",
       " (239, 96, 'Produto_43', 194.33, 18, 116.6),\n",
       " (240, 62, 'Produto_31', 31.42, 3, 18.85),\n",
       " (241, 41, 'Produto_2', 131.85, 11, 79.11),\n",
       " (242, 10, 'Produto_8', 135.85, 20, 81.51),\n",
       " (243, 49, 'Produto_42', 134.6, 4, 80.76),\n",
       " (244, 5, 'Produto_5', 83.92, 5, 50.35),\n",
       " (245, 91, 'Produto_7', 178.77, 18, 107.26),\n",
       " (246, 21, 'Produto_24', 20.25, 12, 12.15),\n",
       " (247, 83, 'Produto_37', 198.96, 5, 119.38),\n",
       " (248, 77, 'Produto_28', 180.7, 7, 108.42),\n",
       " (249, 29, 'Produto_22', 106.38, 13, 63.83),\n",
       " (250, 36, 'Produto_25', 23.28, 10, 13.97),\n",
       " (251, 11, 'Produto_43', 146.55, 14, 87.93),\n",
       " (252, 34, 'Produto_7', 133.92, 18, 80.35),\n",
       " (253, 62, 'Produto_30', 72.61, 12, 43.57),\n",
       " (254, 46, 'Produto_11', 199.05, 1, 119.43),\n",
       " (255, 67, 'Produto_38', 130.09, 18, 78.05),\n",
       " (256, 40, 'Produto_48', 143.96, 8, 86.38),\n",
       " (257, 97, 'Produto_47', 42.45, 8, 25.47),\n",
       " (258, 89, 'Produto_32', 163.93, 19, 98.36),\n",
       " (259, 73, 'Produto_42', 169.11, 5, 101.47),\n",
       " (260, 100, 'Produto_1', 171.46, 6, 102.88),\n",
       " (261, 30, 'Produto_19', 151.51, 18, 90.91),\n",
       " (262, 60, 'Produto_50', 187.45, 10, 112.47),\n",
       " (263, 72, 'Produto_36', 139.34, 1, 83.6),\n",
       " (264, 34, 'Produto_28', 92.44, 4, 55.46),\n",
       " (265, 97, 'Produto_9', 153.97, 5, 92.38),\n",
       " (266, 58, 'Produto_31', 84.84, 18, 50.9),\n",
       " (267, 70, 'Produto_6', 59.07, 14, 35.44),\n",
       " (268, 73, 'Produto_45', 72.7, 1, 43.62),\n",
       " (269, 84, 'Produto_12', 91.54, 8, 54.92),\n",
       " (270, 81, 'Produto_39', 137.27, 8, 82.36),\n",
       " (271, 13, 'Produto_15', 91.25, 13, 54.75),\n",
       " (272, 17, 'Produto_44', 39.07, 5, 23.44),\n",
       " (273, 64, 'Produto_29', 198.8, 14, 119.28),\n",
       " (274, 70, 'Produto_13', 156.31, 2, 93.79),\n",
       " (275, 39, 'Produto_12', 129.06, 5, 77.44),\n",
       " (276, 62, 'Produto_40', 92.07, 9, 55.24),\n",
       " (277, 47, 'Produto_6', 23.37, 16, 14.02),\n",
       " (278, 72, 'Produto_4', 172.24, 11, 103.34),\n",
       " (279, 80, 'Produto_37', 145.13, 15, 87.08),\n",
       " (280, 42, 'Produto_31', 177.5, 1, 106.5),\n",
       " (281, 97, 'Produto_15', 183.21, 13, 109.93),\n",
       " (282, 22, 'Produto_34', 42.6, 16, 25.56),\n",
       " (283, 76, 'Produto_7', 54.93, 7, 32.96),\n",
       " (284, 5, 'Produto_40', 138.96, 1, 83.38),\n",
       " (285, 51, 'Produto_47', 88.6, 20, 53.16),\n",
       " (286, 8, 'Produto_4', 58.4, 5, 35.04),\n",
       " (287, 17, 'Produto_49', 116.06, 4, 69.64),\n",
       " (288, 55, 'Produto_29', 192.91, 4, 115.75),\n",
       " (289, 91, 'Produto_21', 159.18, 17, 95.51),\n",
       " (290, 38, 'Produto_32', 60.74, 11, 36.44),\n",
       " (291, 65, 'Produto_4', 105.22, 18, 63.13),\n",
       " (292, 21, 'Produto_39', 144.53, 15, 86.72),\n",
       " (293, 1, 'Produto_50', 133.05, 6, 79.83),\n",
       " (294, 62, 'Produto_36', 18.69, 16, 11.21),\n",
       " (295, 5, 'Produto_9', 54.07, 12, 32.44),\n",
       " (296, 66, 'Produto_40', 100.63, 18, 60.38),\n",
       " (297, 42, 'Produto_38', 86.18, 18, 51.71),\n",
       " (298, 99, 'Produto_16', 36.91, 4, 22.15),\n",
       " (299, 22, 'Produto_15', 92.67, 1, 55.6),\n",
       " (300, 45, 'Produto_28', 170.35, 10, 102.21),\n",
       " (301, 86, 'Produto_19', 182.79, 15, 109.67),\n",
       " (302, 16, 'Produto_30', 128.32, 14, 76.99),\n",
       " (303, 18, 'Produto_2', 111.71, 20, 67.03),\n",
       " (304, 99, 'Produto_50', 160.25, 9, 96.15),\n",
       " (305, 29, 'Produto_12', 85.76, 10, 51.46),\n",
       " (306, 19, 'Produto_30', 78.09, 9, 46.85),\n",
       " (307, 98, 'Produto_6', 150.28, 14, 90.17),\n",
       " (308, 50, 'Produto_30', 145.46, 10, 87.28),\n",
       " (309, 82, 'Produto_36', 141.76, 2, 85.06),\n",
       " (310, 28, 'Produto_15', 46.93, 14, 28.16),\n",
       " (311, 84, 'Produto_37', 106.29, 8, 63.77),\n",
       " (312, 56, 'Produto_24', 168.72, 14, 101.23),\n",
       " (313, 92, 'Produto_6', 36.89, 13, 22.13),\n",
       " (314, 20, 'Produto_1', 169.55, 18, 101.73),\n",
       " (315, 43, 'Produto_40', 142.55, 4, 85.53),\n",
       " (316, 50, 'Produto_29', 144.62, 15, 86.77),\n",
       " (317, 100, 'Produto_9', 31.4, 6, 18.84),\n",
       " (318, 97, 'Produto_1', 60.35, 20, 36.21),\n",
       " (319, 84, 'Produto_49', 177.64, 14, 106.58),\n",
       " (320, 88, 'Produto_27', 133.11, 6, 79.87),\n",
       " (321, 27, 'Produto_11', 162.31, 15, 97.39),\n",
       " (322, 82, 'Produto_30', 179.53, 6, 107.72),\n",
       " (323, 60, 'Produto_38', 66.98, 11, 40.19),\n",
       " (324, 64, 'Produto_31', 198.14, 15, 118.88),\n",
       " (325, 33, 'Produto_38', 90.19, 4, 54.11),\n",
       " (326, 51, 'Produto_33', 187.18, 4, 112.31),\n",
       " (327, 90, 'Produto_23', 197.39, 20, 118.43),\n",
       " (328, 3, 'Produto_39', 94.29, 13, 56.57),\n",
       " (329, 8, 'Produto_21', 22.06, 9, 13.24),\n",
       " (330, 10, 'Produto_30', 85.67, 3, 51.4),\n",
       " (331, 41, 'Produto_9', 171.23, 2, 102.74),\n",
       " (332, 52, 'Produto_25', 46.42, 14, 27.85),\n",
       " (333, 34, 'Produto_39', 66.0, 13, 39.6),\n",
       " (334, 53, 'Produto_36', 155.8, 2, 93.48),\n",
       " (335, 4, 'Produto_27', 109.8, 5, 65.88),\n",
       " (336, 72, 'Produto_41', 115.82, 1, 69.49),\n",
       " (337, 86, 'Produto_29', 143.29, 12, 85.97),\n",
       " (338, 63, 'Produto_13', 68.34, 12, 41.0),\n",
       " (339, 96, 'Produto_8', 20.54, 4, 12.32),\n",
       " (340, 86, 'Produto_20', 19.92, 6, 11.95),\n",
       " (341, 61, 'Produto_27', 150.62, 19, 90.37),\n",
       " (342, 23, 'Produto_40', 170.5, 2, 102.3),\n",
       " (343, 30, 'Produto_14', 142.28, 11, 85.37),\n",
       " (344, 15, 'Produto_30', 48.98, 11, 29.39),\n",
       " (345, 64, 'Produto_35', 89.72, 6, 53.83),\n",
       " (346, 56, 'Produto_9', 72.42, 5, 43.45),\n",
       " (347, 86, 'Produto_22', 175.04, 16, 105.02),\n",
       " (348, 25, 'Produto_22', 119.63, 20, 71.78),\n",
       " (349, 17, 'Produto_8', 63.6, 17, 38.16),\n",
       " (350, 61, 'Produto_16', 90.42, 1, 54.25),\n",
       " (351, 72, 'Produto_13', 20.88, 5, 12.53),\n",
       " (352, 28, 'Produto_12', 66.24, 6, 39.74),\n",
       " (353, 3, 'Produto_7', 47.0, 13, 28.2),\n",
       " (354, 97, 'Produto_26', 21.68, 4, 13.01),\n",
       " (355, 87, 'Produto_18', 166.68, 4, 100.01),\n",
       " (356, 26, 'Produto_7', 193.51, 17, 116.11),\n",
       " (357, 99, 'Produto_12', 112.02, 1, 67.21),\n",
       " (358, 82, 'Produto_17', 113.71, 12, 68.23),\n",
       " (359, 70, 'Produto_15', 65.39, 17, 39.23),\n",
       " (360, 74, 'Produto_27', 55.59, 18, 33.35),\n",
       " (361, 36, 'Produto_16', 84.18, 17, 50.51),\n",
       " (362, 39, 'Produto_38', 178.92, 8, 107.35),\n",
       " (363, 20, 'Produto_36', 136.61, 4, 81.97),\n",
       " (364, 41, 'Produto_22', 148.69, 20, 89.21),\n",
       " (365, 10, 'Produto_23', 11.65, 1, 6.99),\n",
       " (366, 60, 'Produto_8', 142.23, 16, 85.34),\n",
       " (367, 9, 'Produto_36', 184.02, 17, 110.41),\n",
       " (368, 21, 'Produto_3', 170.4, 4, 102.24),\n",
       " (369, 70, 'Produto_1', 88.27, 10, 52.96),\n",
       " (370, 1, 'Produto_10', 99.81, 12, 59.89),\n",
       " (371, 86, 'Produto_22', 122.09, 6, 73.25),\n",
       " (372, 32, 'Produto_22', 33.57, 18, 20.14),\n",
       " (373, 77, 'Produto_46', 159.33, 3, 95.6),\n",
       " (374, 36, 'Produto_25', 144.74, 8, 86.84),\n",
       " (375, 35, 'Produto_16', 74.49, 16, 44.69),\n",
       " (376, 4, 'Produto_3', 64.11, 8, 38.47),\n",
       " (377, 82, 'Produto_34', 112.96, 2, 67.78),\n",
       " (378, 20, 'Produto_16', 167.92, 13, 100.75),\n",
       " (379, 99, 'Produto_12', 21.49, 3, 12.89),\n",
       " (380, 94, 'Produto_36', 119.95, 4, 71.97),\n",
       " (381, 8, 'Produto_42', 182.49, 9, 109.49),\n",
       " (382, 61, 'Produto_7', 38.8, 20, 23.28),\n",
       " (383, 29, 'Produto_19', 198.77, 3, 119.26),\n",
       " (384, 25, 'Produto_19', 165.93, 13, 99.56),\n",
       " (385, 35, 'Produto_23', 138.9, 2, 83.34),\n",
       " (386, 23, 'Produto_26', 80.81, 1, 48.49),\n",
       " (387, 54, 'Produto_25', 25.68, 7, 15.41),\n",
       " (388, 93, 'Produto_14', 72.82, 20, 43.69),\n",
       " (389, 53, 'Produto_50', 175.41, 2, 105.25),\n",
       " (390, 94, 'Produto_42', 141.78, 11, 85.07),\n",
       " (391, 33, 'Produto_30', 161.44, 14, 96.86),\n",
       " (392, 56, 'Produto_3', 14.38, 8, 8.63),\n",
       " (393, 67, 'Produto_7', 74.3, 17, 44.58),\n",
       " (394, 50, 'Produto_26', 63.7, 13, 38.22),\n",
       " (395, 7, 'Produto_36', 162.04, 4, 97.22),\n",
       " (396, 61, 'Produto_38', 127.95, 19, 76.77),\n",
       " (397, 96, 'Produto_27', 52.5, 8, 31.5),\n",
       " (398, 27, 'Produto_9', 35.08, 11, 21.05),\n",
       " (399, 100, 'Produto_22', 162.06, 18, 97.24),\n",
       " (400, 31, 'Produto_16', 86.64, 19, 51.98),\n",
       " (401, 50, 'Produto_23', 52.41, 11, 31.45),\n",
       " (402, 65, 'Produto_20', 199.1, 7, 119.46),\n",
       " (403, 86, 'Produto_19', 174.39, 9, 104.63),\n",
       " (404, 85, 'Produto_41', 39.97, 19, 23.98),\n",
       " (405, 43, 'Produto_45', 71.63, 17, 42.98),\n",
       " (406, 89, 'Produto_22', 69.84, 16, 41.9),\n",
       " (407, 87, 'Produto_12', 29.86, 11, 17.92),\n",
       " (408, 47, 'Produto_10', 11.92, 16, 7.15),\n",
       " (409, 10, 'Produto_22', 194.26, 13, 116.56),\n",
       " (410, 17, 'Produto_4', 149.57, 4, 89.74),\n",
       " (411, 94, 'Produto_1', 121.02, 10, 72.61),\n",
       " (412, 30, 'Produto_14', 26.83, 2, 16.1),\n",
       " (413, 98, 'Produto_32', 10.03, 12, 6.02),\n",
       " (414, 67, 'Produto_29', 177.0, 6, 106.2),\n",
       " (415, 24, 'Produto_15', 104.37, 5, 62.62),\n",
       " (416, 54, 'Produto_29', 89.13, 17, 53.48),\n",
       " (417, 19, 'Produto_49', 68.44, 10, 41.06),\n",
       " (418, 68, 'Produto_25', 112.45, 2, 67.47),\n",
       " (419, 30, 'Produto_29', 58.53, 12, 35.12),\n",
       " (420, 61, 'Produto_36', 102.1, 20, 61.26),\n",
       " (421, 27, 'Produto_42', 83.37, 7, 50.02),\n",
       " (422, 8, 'Produto_18', 141.13, 15, 84.68),\n",
       " (423, 84, 'Produto_9', 13.04, 8, 7.82),\n",
       " (424, 100, 'Produto_24', 83.31, 18, 49.99),\n",
       " (425, 18, 'Produto_10', 15.95, 2, 9.57),\n",
       " (426, 3, 'Produto_34', 15.58, 1, 9.35),\n",
       " (427, 9, 'Produto_25', 61.58, 14, 36.95),\n",
       " (428, 61, 'Produto_10', 45.74, 4, 27.44),\n",
       " (429, 39, 'Produto_20', 48.31, 19, 28.99),\n",
       " (430, 99, 'Produto_46', 67.19, 3, 40.31),\n",
       " (431, 72, 'Produto_27', 134.35, 14, 80.61),\n",
       " (432, 83, 'Produto_44', 150.01, 3, 90.01),\n",
       " (433, 37, 'Produto_47', 177.32, 1, 106.39),\n",
       " (434, 87, 'Produto_3', 187.7, 1, 112.62),\n",
       " (435, 10, 'Produto_39', 107.65, 7, 64.59),\n",
       " (436, 43, 'Produto_43', 113.81, 13, 68.29),\n",
       " (437, 60, 'Produto_29', 98.56, 7, 59.14),\n",
       " (438, 85, 'Produto_50', 55.8, 16, 33.48),\n",
       " (439, 31, 'Produto_11', 148.32, 13, 88.99),\n",
       " (440, 59, 'Produto_22', 34.45, 12, 20.67),\n",
       " (441, 83, 'Produto_25', 168.0, 3, 100.8),\n",
       " (442, 91, 'Produto_42', 85.87, 20, 51.52),\n",
       " (443, 24, 'Produto_22', 63.03, 6, 37.82),\n",
       " (444, 20, 'Produto_6', 194.99, 15, 116.99),\n",
       " (445, 41, 'Produto_46', 52.96, 14, 31.78),\n",
       " (446, 10, 'Produto_4', 118.24, 15, 70.94),\n",
       " (447, 47, 'Produto_3', 111.78, 9, 67.07),\n",
       " (448, 72, 'Produto_24', 107.87, 8, 64.72),\n",
       " (449, 75, 'Produto_12', 181.36, 13, 108.82),\n",
       " (450, 91, 'Produto_11', 60.73, 8, 36.44),\n",
       " (451, 48, 'Produto_1', 18.44, 20, 11.06),\n",
       " (452, 12, 'Produto_28', 120.85, 8, 72.51),\n",
       " (453, 68, 'Produto_40', 167.29, 1, 100.37),\n",
       " (454, 60, 'Produto_30', 54.72, 12, 32.83),\n",
       " (455, 25, 'Produto_29', 110.63, 1, 66.38),\n",
       " (456, 22, 'Produto_12', 35.94, 18, 21.56),\n",
       " (457, 82, 'Produto_26', 134.73, 3, 80.84),\n",
       " (458, 98, 'Produto_4', 101.6, 17, 60.96),\n",
       " (459, 79, 'Produto_37', 95.52, 6, 57.31),\n",
       " (460, 93, 'Produto_40', 151.36, 12, 90.82),\n",
       " (461, 88, 'Produto_48', 154.02, 15, 92.41),\n",
       " (462, 54, 'Produto_17', 30.36, 7, 18.22),\n",
       " (463, 18, 'Produto_18', 40.89, 19, 24.53),\n",
       " (464, 7, 'Produto_4', 165.3, 18, 99.18),\n",
       " (465, 31, 'Produto_11', 16.06, 12, 9.64),\n",
       " (466, 50, 'Produto_37', 66.55, 20, 39.93),\n",
       " (467, 11, 'Produto_29', 186.75, 4, 112.05),\n",
       " (468, 57, 'Produto_30', 190.73, 5, 114.44),\n",
       " (469, 32, 'Produto_10', 40.43, 5, 24.26),\n",
       " (470, 56, 'Produto_49', 60.78, 11, 36.47),\n",
       " (471, 57, 'Produto_19', 147.38, 18, 88.43),\n",
       " (472, 79, 'Produto_23', 112.01, 19, 67.21),\n",
       " (473, 43, 'Produto_38', 154.74, 20, 92.84),\n",
       " (474, 76, 'Produto_19', 160.12, 5, 96.07),\n",
       " (475, 83, 'Produto_38', 92.49, 19, 55.49),\n",
       " (476, 84, 'Produto_3', 192.7, 9, 115.62),\n",
       " (477, 76, 'Produto_18', 19.22, 5, 11.53),\n",
       " (478, 97, 'Produto_44', 193.39, 8, 116.03),\n",
       " (479, 39, 'Produto_34', 162.33, 1, 97.4),\n",
       " (480, 98, 'Produto_22', 85.19, 9, 51.11),\n",
       " (481, 3, 'Produto_39', 33.03, 6, 19.82),\n",
       " (482, 33, 'Produto_33', 63.61, 13, 38.17),\n",
       " (483, 84, 'Produto_5', 170.45, 16, 102.27),\n",
       " (484, 9, 'Produto_30', 103.85, 20, 62.31),\n",
       " (485, 35, 'Produto_8', 198.35, 6, 119.01),\n",
       " (486, 16, 'Produto_7', 24.02, 16, 14.41),\n",
       " (487, 87, 'Produto_35', 47.53, 19, 28.52),\n",
       " (488, 75, 'Produto_29', 184.54, 10, 110.72),\n",
       " (489, 58, 'Produto_7', 62.24, 3, 37.34),\n",
       " (490, 70, 'Produto_26', 124.03, 7, 74.42),\n",
       " (491, 97, 'Produto_39', 150.94, 17, 90.56),\n",
       " (492, 82, 'Produto_18', 178.03, 18, 106.82),\n",
       " (493, 45, 'Produto_37', 157.59, 9, 94.55),\n",
       " (494, 65, 'Produto_17', 73.05, 14, 43.83),\n",
       " (495, 53, 'Produto_26', 97.69, 9, 58.61),\n",
       " (496, 27, 'Produto_12', 155.02, 1, 93.01),\n",
       " (497, 32, 'Produto_23', 71.04, 6, 42.62),\n",
       " (498, 80, 'Produto_1', 67.83, 13, 40.7),\n",
       " (499, 13, 'Produto_50', 187.89, 16, 112.73),\n",
       " (500, 46, 'Produto_21', 82.81, 11, 49.69)]"
      ]
     },
     "execution_count": 16,
     "metadata": {},
     "output_type": "execute_result"
    }
   ],
   "source": [
    "# Visualiza os dados\n",
    "dados"
   ]
  },
  {
   "cell_type": "markdown",
   "metadata": {},
   "source": [
    "## Aplicando Linguagem SQL Direto no Banco de Dados com Linguagem Python"
   ]
  },
  {
   "cell_type": "markdown",
   "metadata": {},
   "source": [
    "> A query abaixo retorna a média de unidades vendidas."
   ]
  },
  {
   "cell_type": "code",
   "execution_count": 17,
   "metadata": {},
   "outputs": [],
   "source": [
    "# Cria uma instrução SQL para calcular a média de unidades vendidas\n",
    "query2 = 'SELECT AVG(Unidades_Vendidas) FROM tb_vendas_dsa'"
   ]
  },
  {
   "cell_type": "code",
   "execution_count": 18,
   "metadata": {},
   "outputs": [
    {
     "data": {
      "text/plain": [
       "<sqlite3.Cursor at 0x7f8f5cd4d730>"
      ]
     },
     "execution_count": 18,
     "metadata": {},
     "output_type": "execute_result"
    }
   ],
   "source": [
    "# Executa a query no banco de dados\n",
    "cursor.execute(query2)"
   ]
  },
  {
   "cell_type": "code",
   "execution_count": 19,
   "metadata": {},
   "outputs": [
    {
     "name": "stdout",
     "output_type": "stream",
     "text": [
      "[(10.506,)]\n"
     ]
    }
   ],
   "source": [
    "# Visualiza o resultado\n",
    "print(cursor.fetchall())"
   ]
  },
  {
   "cell_type": "markdown",
   "metadata": {},
   "source": [
    "> A query abaixo retorna a média de unidades vendidas por produto."
   ]
  },
  {
   "cell_type": "code",
   "execution_count": 20,
   "metadata": {},
   "outputs": [],
   "source": [
    "# Cria uma instrução SQL para calcular a média de unidades vendidas por produto\n",
    "query3 = 'SELECT Nome_Produto, AVG(Unidades_Vendidas) FROM tb_vendas_dsa GROUP BY Nome_Produto'"
   ]
  },
  {
   "cell_type": "code",
   "execution_count": 21,
   "metadata": {},
   "outputs": [
    {
     "data": {
      "text/plain": [
       "<sqlite3.Cursor at 0x7f8f5cd4d730>"
      ]
     },
     "execution_count": 21,
     "metadata": {},
     "output_type": "execute_result"
    }
   ],
   "source": [
    "# Executa a query no banco de dados\n",
    "cursor.execute(query3)"
   ]
  },
  {
   "cell_type": "code",
   "execution_count": 22,
   "metadata": {},
   "outputs": [
    {
     "data": {
      "text/plain": [
       "[('Produto_1', 12.0),\n",
       " ('Produto_10', 9.5),\n",
       " ('Produto_11', 14.181818181818182),\n",
       " ('Produto_12', 8.846153846153847),\n",
       " ('Produto_13', 6.0),\n",
       " ('Produto_14', 9.166666666666666),\n",
       " ('Produto_15', 9.75),\n",
       " ('Produto_16', 8.25),\n",
       " ('Produto_17', 11.714285714285714),\n",
       " ('Produto_18', 13.083333333333334),\n",
       " ('Produto_19', 9.727272727272727),\n",
       " ('Produto_2', 9.25),\n",
       " ('Produto_20', 7.555555555555555),\n",
       " ('Produto_21', 10.285714285714286),\n",
       " ('Produto_22', 13.6875),\n",
       " ('Produto_23', 10.818181818181818),\n",
       " ('Produto_24', 12.272727272727273),\n",
       " ('Produto_25', 9.538461538461538),\n",
       " ('Produto_26', 9.363636363636363),\n",
       " ('Produto_27', 11.1),\n",
       " ('Produto_28', 9.0),\n",
       " ('Produto_29', 9.692307692307692),\n",
       " ('Produto_3', 8.909090909090908),\n",
       " ('Produto_30', 9.875),\n",
       " ('Produto_31', 7.9),\n",
       " ('Produto_32', 11.923076923076923),\n",
       " ('Produto_33', 12.285714285714286),\n",
       " ('Produto_34', 8.1),\n",
       " ('Produto_35', 9.0),\n",
       " ('Produto_36', 9.090909090909092),\n",
       " ('Produto_37', 11.0),\n",
       " ('Produto_38', 12.8),\n",
       " ('Produto_39', 12.666666666666666),\n",
       " ('Produto_4', 11.153846153846153),\n",
       " ('Produto_40', 7.25),\n",
       " ('Produto_41', 11.857142857142858),\n",
       " ('Produto_42', 10.272727272727273),\n",
       " ('Produto_43', 11.0),\n",
       " ('Produto_44', 7.2),\n",
       " ('Produto_45', 8.875),\n",
       " ('Produto_46', 12.142857142857142),\n",
       " ('Produto_47', 10.571428571428571),\n",
       " ('Produto_48', 14.0),\n",
       " ('Produto_49', 11.875),\n",
       " ('Produto_5', 10.2),\n",
       " ('Produto_50', 10.545454545454545),\n",
       " ('Produto_6', 12.0),\n",
       " ('Produto_7', 13.5625),\n",
       " ('Produto_8', 11.071428571428571),\n",
       " ('Produto_9', 7.2)]"
      ]
     },
     "execution_count": 22,
     "metadata": {},
     "output_type": "execute_result"
    }
   ],
   "source": [
    "# Visualiza o resultado\n",
    "cursor.fetchall()"
   ]
  },
  {
   "cell_type": "markdown",
   "metadata": {},
   "source": [
    "> A query abaixo retorna a média de unidades vendidas por produto se o valor unitario for maior do que 199."
   ]
  },
  {
   "cell_type": "code",
   "execution_count": 23,
   "metadata": {},
   "outputs": [],
   "source": [
    "# Cria uma instrução SQL para calcular a média de unidades vendidas por produto,\n",
    "# quando o valor unitário for maior que 199\n",
    "query4 = \"\"\"SELECT Nome_Produto, AVG(Unidades_Vendidas) \n",
    "            FROM tb_vendas_dsa \n",
    "            WHERE Valor_Unitario > 199 \n",
    "            GROUP BY Nome_Produto\"\"\""
   ]
  },
  {
   "cell_type": "code",
   "execution_count": 24,
   "metadata": {},
   "outputs": [
    {
     "data": {
      "text/plain": [
       "<sqlite3.Cursor at 0x7f8f5cd4d730>"
      ]
     },
     "execution_count": 24,
     "metadata": {},
     "output_type": "execute_result"
    }
   ],
   "source": [
    "# Executa a query no banco de dados\n",
    "cursor.execute(query4)"
   ]
  },
  {
   "cell_type": "code",
   "execution_count": 25,
   "metadata": {},
   "outputs": [
    {
     "data": {
      "text/plain": [
       "[('Produto_11', 1.0),\n",
       " ('Produto_15', 8.0),\n",
       " ('Produto_17', 14.0),\n",
       " ('Produto_20', 7.0),\n",
       " ('Produto_39', 16.0)]"
      ]
     },
     "execution_count": 25,
     "metadata": {},
     "output_type": "execute_result"
    }
   ],
   "source": [
    "# Visualiza o resultado\n",
    "cursor.fetchall()"
   ]
  },
  {
   "cell_type": "markdown",
   "metadata": {},
   "source": [
    "> A query abaixo retorna a média de unidades vendidas por produto se o valor unitario for maior do que 199 e somente se a média de unidades vendidas for maior do que 10."
   ]
  },
  {
   "cell_type": "code",
   "execution_count": 26,
   "metadata": {},
   "outputs": [],
   "source": [
    "# Esta query está ERRADA!\n",
    "query5 = \"\"\"SELECT Nome_Produto, AVG(Unidades_Vendidas) \n",
    "            FROM tb_vendas_dsa \n",
    "            WHERE Valor_Unitario > 199 and AVG(Unidades_Vendidas) > 10\n",
    "            GROUP BY Nome_Produto \"\"\""
   ]
  },
  {
   "cell_type": "code",
   "execution_count": 27,
   "metadata": {},
   "outputs": [],
   "source": [
    "# Executa a query no banco de dados\n",
    "# cursor.execute(query5)"
   ]
  },
  {
   "cell_type": "code",
   "execution_count": 28,
   "metadata": {},
   "outputs": [],
   "source": [
    "# Cria uma instrução SQL para calcular a média de unidades vendidas por produto,\n",
    "# quando o valor unitário for maior que 199, mas somente se a média de unidades vendidas for maior que 10\n",
    "query5 = \"\"\"SELECT Nome_Produto, AVG(Unidades_Vendidas) \n",
    "            FROM tb_vendas_dsa \n",
    "            WHERE Valor_Unitario > 199 \n",
    "            GROUP BY Nome_Produto \n",
    "            HAVING AVG(Unidades_Vendidas) > 10\"\"\""
   ]
  },
  {
   "cell_type": "code",
   "execution_count": 29,
   "metadata": {},
   "outputs": [
    {
     "data": {
      "text/plain": [
       "<sqlite3.Cursor at 0x7f8f5cd4d730>"
      ]
     },
     "execution_count": 29,
     "metadata": {},
     "output_type": "execute_result"
    }
   ],
   "source": [
    "# Executa a query no banco de dados\n",
    "cursor.execute(query5)"
   ]
  },
  {
   "cell_type": "code",
   "execution_count": 30,
   "metadata": {},
   "outputs": [
    {
     "data": {
      "text/plain": [
       "[('Produto_17', 14.0), ('Produto_39', 16.0)]"
      ]
     },
     "execution_count": 30,
     "metadata": {},
     "output_type": "execute_result"
    }
   ],
   "source": [
    "# Visualiza o resultado\n",
    "cursor.fetchall()"
   ]
  },
  {
   "cell_type": "code",
   "execution_count": 31,
   "metadata": {},
   "outputs": [],
   "source": [
    "# Fecha o cursor e encerra a conexão\n",
    "cursor.close()\n",
    "con.close()"
   ]
  },
  {
   "cell_type": "markdown",
   "metadata": {},
   "source": [
    "## Aplicando Linguagem SQL na Sintaxe do Pandas com Linguagem Python"
   ]
  },
  {
   "cell_type": "code",
   "execution_count": 32,
   "metadata": {},
   "outputs": [],
   "source": [
    "# Conecta no banco de dados\n",
    "con = sqlite3.connect('cap12_dsa.db')"
   ]
  },
  {
   "cell_type": "code",
   "execution_count": 33,
   "metadata": {},
   "outputs": [],
   "source": [
    "# Abre um cursor para percorrer os dados no banco de dados\n",
    "cursor = con.cursor()"
   ]
  },
  {
   "cell_type": "markdown",
   "metadata": {},
   "source": [
    "> A query abaixo retorna todas as linhas e todas as colunas da tabela."
   ]
  },
  {
   "cell_type": "code",
   "execution_count": 34,
   "metadata": {},
   "outputs": [],
   "source": [
    "# Cria uma instrução SQL\n",
    "query = 'SELECT * FROM tb_vendas_dsa'"
   ]
  },
  {
   "cell_type": "code",
   "execution_count": 35,
   "metadata": {},
   "outputs": [
    {
     "data": {
      "text/plain": [
       "<sqlite3.Cursor at 0x7f8f5cd4d6c0>"
      ]
     },
     "execution_count": 35,
     "metadata": {},
     "output_type": "execute_result"
    }
   ],
   "source": [
    "# Executa a query no banco de dados\n",
    "cursor.execute(query)"
   ]
  },
  {
   "cell_type": "code",
   "execution_count": 36,
   "metadata": {},
   "outputs": [],
   "source": [
    "# Retorna os dados da execução da query\n",
    "dados = cursor.fetchall()"
   ]
  },
  {
   "cell_type": "code",
   "execution_count": 37,
   "metadata": {},
   "outputs": [
    {
     "data": {
      "text/plain": [
       "[(1, 63, 'Produto_38', 154.03, 7, 92.42),\n",
       " (2, 49, 'Produto_8', 171.52, 5, 102.91),\n",
       " (3, 83, 'Produto_39', 28.97, 13, 17.38),\n",
       " (4, 37, 'Produto_2', 104.55, 4, 62.73),\n",
       " (5, 19, 'Produto_1', 77.21, 19, 46.33),\n",
       " (6, 87, 'Produto_36', 161.97, 13, 97.18),\n",
       " (7, 59, 'Produto_24', 101.17, 7, 60.7),\n",
       " (8, 48, 'Produto_31', 92.03, 9, 55.22),\n",
       " (9, 73, 'Produto_4', 116.57, 6, 69.94),\n",
       " (10, 98, 'Produto_45', 46.16, 4, 27.7),\n",
       " (11, 86, 'Produto_30', 135.55, 12, 81.33),\n",
       " (12, 89, 'Produto_45', 119.4, 11, 71.64),\n",
       " (13, 96, 'Produto_11', 96.63, 13, 57.98),\n",
       " (14, 29, 'Produto_50', 191.3, 10, 114.78),\n",
       " (15, 63, 'Produto_21', 191.28, 14, 114.77),\n",
       " (16, 30, 'Produto_22', 67.58, 17, 40.55),\n",
       " (17, 5, 'Produto_41', 33.22, 2, 19.93),\n",
       " (18, 97, 'Produto_33', 67.77, 12, 40.66),\n",
       " (19, 19, 'Produto_18', 160.68, 15, 96.41),\n",
       " (20, 7, 'Produto_17', 34.37, 13, 20.62),\n",
       " (21, 79, 'Produto_1', 161.33, 15, 96.8),\n",
       " (22, 36, 'Produto_45', 184.7, 11, 110.82),\n",
       " (23, 94, 'Produto_21', 11.57, 1, 6.94),\n",
       " (24, 51, 'Produto_16', 103.49, 4, 62.09),\n",
       " (25, 37, 'Produto_32', 29.49, 17, 17.69),\n",
       " (26, 78, 'Produto_5', 86.93, 6, 52.16),\n",
       " (27, 78, 'Produto_24', 118.14, 1, 70.88),\n",
       " (28, 87, 'Produto_6', 38.12, 4, 22.87),\n",
       " (29, 88, 'Produto_7', 145.76, 13, 87.46),\n",
       " (30, 31, 'Produto_1', 85.55, 19, 51.33),\n",
       " (31, 2, 'Produto_37', 43.93, 11, 26.36),\n",
       " (32, 80, 'Produto_34', 167.69, 1, 100.61),\n",
       " (33, 76, 'Produto_2', 36.25, 13, 21.75),\n",
       " (34, 89, 'Produto_6', 163.48, 9, 98.09),\n",
       " (35, 61, 'Produto_34', 26.27, 17, 15.76),\n",
       " (36, 20, 'Produto_24', 171.27, 9, 102.76),\n",
       " (37, 64, 'Produto_32', 194.29, 6, 116.57),\n",
       " (38, 12, 'Produto_45', 137.65, 15, 82.59),\n",
       " (39, 45, 'Produto_14', 150.07, 10, 90.04),\n",
       " (40, 32, 'Produto_32', 169.94, 19, 101.96),\n",
       " (41, 55, 'Produto_25', 32.62, 14, 19.57),\n",
       " (42, 37, 'Produto_1', 109.69, 1, 65.81),\n",
       " (43, 72, 'Produto_39', 199.78, 16, 119.87),\n",
       " (44, 76, 'Produto_50', 164.47, 17, 98.68),\n",
       " (45, 88, 'Produto_11', 68.66, 16, 41.2),\n",
       " (46, 50, 'Produto_8', 25.03, 13, 15.02),\n",
       " (47, 23, 'Produto_25', 123.85, 20, 74.31),\n",
       " (48, 91, 'Produto_28', 26.14, 6, 15.68),\n",
       " (49, 9, 'Produto_31', 46.27, 3, 27.76),\n",
       " (50, 18, 'Produto_6', 155.63, 12, 93.38),\n",
       " (51, 80, 'Produto_7', 56.15, 11, 33.69),\n",
       " (52, 59, 'Produto_13', 124.63, 6, 74.78),\n",
       " (53, 88, 'Produto_22', 92.03, 4, 55.22),\n",
       " (54, 62, 'Produto_50', 154.84, 5, 92.9),\n",
       " (55, 39, 'Produto_27', 10.31, 5, 6.19),\n",
       " (56, 90, 'Produto_16', 30.1, 5, 18.06),\n",
       " (57, 19, 'Produto_18', 170.95, 20, 102.57),\n",
       " (58, 75, 'Produto_16', 104.94, 8, 62.96),\n",
       " (59, 4, 'Produto_49', 119.61, 17, 71.77),\n",
       " (60, 24, 'Produto_5', 102.72, 11, 61.63),\n",
       " (61, 36, 'Produto_48', 84.9, 19, 50.94),\n",
       " (62, 85, 'Produto_28', 51.01, 3, 30.61),\n",
       " (63, 9, 'Produto_8', 31.4, 3, 18.84),\n",
       " (64, 34, 'Produto_49', 37.23, 9, 22.34),\n",
       " (65, 54, 'Produto_32', 60.6, 2, 36.36),\n",
       " (66, 23, 'Produto_20', 194.8, 8, 116.88),\n",
       " (67, 14, 'Produto_42', 90.96, 18, 54.58),\n",
       " (68, 44, 'Produto_10', 191.3, 10, 114.78),\n",
       " (69, 85, 'Produto_43', 24.79, 12, 14.87),\n",
       " (70, 49, 'Produto_15', 47.9, 11, 28.74),\n",
       " (71, 78, 'Produto_28', 45.76, 8, 27.46),\n",
       " (72, 30, 'Produto_30', 91.74, 4, 55.04),\n",
       " (73, 56, 'Produto_34', 142.24, 6, 85.34),\n",
       " (74, 6, 'Produto_5', 125.28, 13, 75.17),\n",
       " (75, 36, 'Produto_20', 36.46, 1, 21.88),\n",
       " (76, 43, 'Produto_26', 98.92, 12, 59.35),\n",
       " (77, 37, 'Produto_11', 116.83, 20, 70.1),\n",
       " (78, 24, 'Produto_50', 25.82, 10, 15.49),\n",
       " (79, 98, 'Produto_36', 138.52, 17, 83.11),\n",
       " (80, 3, 'Produto_25', 198.07, 6, 118.84),\n",
       " (81, 96, 'Produto_23', 15.36, 11, 9.22),\n",
       " (82, 52, 'Produto_44', 55.17, 8, 33.1),\n",
       " (83, 50, 'Produto_4', 62.59, 17, 37.55),\n",
       " (84, 45, 'Produto_17', 199.62, 14, 119.77),\n",
       " (85, 69, 'Produto_22', 66.9, 20, 40.14),\n",
       " (86, 20, 'Produto_45', 152.84, 7, 91.7),\n",
       " (87, 91, 'Produto_28', 47.58, 11, 28.55),\n",
       " (88, 21, 'Produto_47', 146.07, 18, 87.64),\n",
       " (89, 66, 'Produto_43', 37.75, 5, 22.65),\n",
       " (90, 86, 'Produto_35', 72.53, 2, 43.52),\n",
       " (91, 20, 'Produto_3', 164.55, 20, 98.73),\n",
       " (92, 2, 'Produto_22', 86.69, 11, 52.01),\n",
       " (93, 67, 'Produto_41', 72.9, 14, 43.74),\n",
       " (94, 4, 'Produto_16', 38.61, 13, 23.17),\n",
       " (95, 89, 'Produto_29', 110.76, 12, 66.46),\n",
       " (96, 57, 'Produto_46', 190.45, 10, 114.27),\n",
       " (97, 60, 'Produto_4', 180.91, 16, 108.55),\n",
       " (98, 92, 'Produto_9', 64.0, 17, 38.4),\n",
       " (99, 59, 'Produto_6', 73.64, 16, 44.18),\n",
       " (100, 5, 'Produto_18', 33.03, 20, 19.82),\n",
       " (101, 59, 'Produto_27', 169.36, 13, 101.62),\n",
       " (102, 87, 'Produto_49', 163.09, 11, 97.85),\n",
       " (103, 14, 'Produto_17', 63.25, 17, 37.95),\n",
       " (104, 21, 'Produto_17', 17.27, 5, 10.36),\n",
       " (105, 20, 'Produto_2', 12.68, 4, 7.61),\n",
       " (106, 60, 'Produto_3', 90.23, 20, 54.14),\n",
       " (107, 25, 'Produto_14', 38.42, 3, 23.05),\n",
       " (108, 85, 'Produto_47', 71.75, 18, 43.05),\n",
       " (109, 14, 'Produto_37', 197.77, 14, 118.66),\n",
       " (110, 47, 'Produto_8', 36.92, 11, 22.15),\n",
       " (111, 61, 'Produto_25', 21.03, 7, 12.62),\n",
       " (112, 31, 'Produto_24', 149.85, 18, 89.91),\n",
       " (113, 70, 'Produto_24', 81.9, 15, 49.14),\n",
       " (114, 27, 'Produto_20', 163.77, 5, 98.26),\n",
       " (115, 94, 'Produto_31', 143.05, 5, 85.83),\n",
       " (116, 67, 'Produto_6', 191.16, 2, 114.7),\n",
       " (117, 99, 'Produto_31', 194.36, 13, 116.62),\n",
       " (118, 76, 'Produto_46', 151.54, 19, 90.92),\n",
       " (119, 1, 'Produto_15', 13.12, 7, 7.87),\n",
       " (120, 54, 'Produto_24', 139.93, 18, 83.96),\n",
       " (121, 28, 'Produto_34', 57.6, 18, 34.56),\n",
       " (122, 13, 'Produto_19', 46.08, 6, 27.65),\n",
       " (123, 84, 'Produto_12', 197.18, 15, 118.31),\n",
       " (124, 67, 'Produto_20', 173.43, 4, 104.06),\n",
       " (125, 57, 'Produto_19', 32.09, 8, 19.25),\n",
       " (126, 78, 'Produto_7', 25.64, 12, 15.38),\n",
       " (127, 12, 'Produto_43', 36.3, 4, 21.78),\n",
       " (128, 63, 'Produto_4', 186.5, 5, 111.9),\n",
       " (129, 46, 'Produto_38', 36.09, 4, 21.65),\n",
       " (130, 71, 'Produto_23', 136.71, 19, 82.03),\n",
       " (131, 87, 'Produto_32', 98.13, 14, 58.88),\n",
       " (132, 20, 'Produto_2', 81.85, 13, 49.11),\n",
       " (133, 87, 'Produto_27', 96.42, 8, 57.85),\n",
       " (134, 59, 'Produto_19', 18.39, 4, 11.03),\n",
       " (135, 64, 'Produto_42', 172.8, 15, 103.68),\n",
       " (136, 98, 'Produto_30', 75.19, 1, 45.11),\n",
       " (137, 26, 'Produto_18', 147.01, 1, 88.21),\n",
       " (138, 57, 'Produto_12', 128.0, 17, 76.8),\n",
       " (139, 14, 'Produto_42', 151.81, 5, 91.09),\n",
       " (140, 50, 'Produto_10', 131.38, 13, 78.83),\n",
       " (141, 37, 'Produto_23', 59.52, 16, 35.71),\n",
       " (142, 10, 'Produto_46', 111.6, 19, 66.96),\n",
       " (143, 46, 'Produto_1', 31.64, 7, 18.98),\n",
       " (144, 44, 'Produto_18', 148.22, 15, 88.93),\n",
       " (145, 3, 'Produto_1', 92.3, 6, 55.38),\n",
       " (146, 47, 'Produto_33', 102.3, 13, 61.38),\n",
       " (147, 18, 'Produto_47', 133.77, 3, 80.26),\n",
       " (148, 81, 'Produto_26', 91.64, 20, 54.98),\n",
       " (149, 45, 'Produto_33', 52.55, 20, 31.53),\n",
       " (150, 57, 'Produto_1', 135.48, 1, 81.29),\n",
       " (151, 52, 'Produto_28', 15.77, 15, 9.46),\n",
       " (152, 74, 'Produto_41', 128.05, 18, 76.83),\n",
       " (153, 74, 'Produto_8', 106.01, 6, 63.61),\n",
       " (154, 15, 'Produto_26', 158.71, 16, 95.23),\n",
       " (155, 22, 'Produto_31', 64.36, 10, 38.62),\n",
       " (156, 52, 'Produto_19', 89.42, 8, 53.65),\n",
       " (157, 22, 'Produto_15', 199.24, 8, 119.54),\n",
       " (158, 97, 'Produto_3', 23.01, 6, 13.81),\n",
       " (159, 38, 'Produto_39', 39.84, 16, 23.9),\n",
       " (160, 32, 'Produto_15', 37.74, 19, 22.64),\n",
       " (161, 79, 'Produto_44', 155.45, 12, 93.27),\n",
       " (162, 56, 'Produto_8', 33.42, 15, 20.05),\n",
       " (163, 45, 'Produto_18', 151.89, 12, 91.13),\n",
       " (164, 65, 'Produto_11', 105.63, 19, 63.38),\n",
       " (165, 41, 'Produto_30', 17.76, 10, 10.66),\n",
       " (166, 7, 'Produto_8', 100.81, 19, 60.49),\n",
       " (167, 35, 'Produto_42', 28.34, 7, 17.0),\n",
       " (168, 24, 'Produto_34', 37.89, 17, 22.73),\n",
       " (169, 41, 'Produto_29', 27.34, 12, 16.4),\n",
       " (170, 84, 'Produto_13', 184.2, 5, 110.52),\n",
       " (171, 84, 'Produto_12', 24.93, 7, 14.96),\n",
       " (172, 47, 'Produto_4', 28.03, 12, 16.82),\n",
       " (173, 77, 'Produto_39', 188.52, 19, 113.11),\n",
       " (174, 58, 'Produto_8', 103.24, 17, 61.94),\n",
       " (175, 42, 'Produto_11', 88.9, 20, 53.34),\n",
       " (176, 38, 'Produto_31', 93.94, 2, 56.36),\n",
       " (177, 85, 'Produto_46', 21.13, 17, 12.68),\n",
       " (178, 13, 'Produto_7', 183.36, 8, 110.02),\n",
       " (179, 21, 'Produto_9', 166.11, 2, 99.67),\n",
       " (180, 9, 'Produto_32', 141.85, 18, 85.11),\n",
       " (181, 54, 'Produto_2', 163.44, 3, 98.06),\n",
       " (182, 96, 'Produto_26', 105.53, 15, 63.32),\n",
       " (183, 39, 'Produto_41', 136.76, 15, 82.06),\n",
       " (184, 68, 'Produto_10', 122.17, 19, 73.3),\n",
       " (185, 34, 'Produto_30', 139.21, 15, 83.53),\n",
       " (186, 76, 'Produto_48', 195.24, 14, 117.14),\n",
       " (187, 77, 'Produto_20', 117.97, 4, 70.78),\n",
       " (188, 96, 'Produto_21', 55.59, 8, 33.35),\n",
       " (189, 15, 'Produto_4', 57.91, 1, 34.75),\n",
       " (190, 67, 'Produto_11', 123.17, 19, 73.9),\n",
       " (191, 28, 'Produto_35', 33.25, 9, 19.95),\n",
       " (192, 69, 'Produto_21', 194.8, 12, 116.88),\n",
       " (193, 54, 'Produto_8', 185.3, 3, 111.18),\n",
       " (194, 57, 'Produto_23', 26.6, 1, 15.96),\n",
       " (195, 70, 'Produto_9', 72.53, 4, 43.52),\n",
       " (196, 74, 'Produto_42', 194.13, 12, 116.48),\n",
       " (197, 8, 'Produto_10', 178.27, 13, 106.96),\n",
       " (198, 15, 'Produto_14', 39.89, 9, 23.93),\n",
       " (199, 67, 'Produto_32', 27.57, 12, 16.54),\n",
       " (200, 10, 'Produto_3', 57.05, 6, 34.23),\n",
       " (201, 49, 'Produto_7', 196.13, 20, 117.68),\n",
       " (202, 69, 'Produto_28', 13.59, 18, 8.15),\n",
       " (203, 31, 'Produto_24', 179.2, 15, 107.52),\n",
       " (204, 11, 'Produto_15', 57.46, 6, 34.48),\n",
       " (205, 69, 'Produto_16', 135.56, 9, 81.34),\n",
       " (206, 53, 'Produto_25', 84.87, 18, 50.92),\n",
       " (207, 34, 'Produto_33', 176.65, 14, 105.99),\n",
       " (208, 67, 'Produto_40', 104.03, 11, 62.42),\n",
       " (209, 6, 'Produto_27', 57.23, 15, 34.34),\n",
       " (210, 53, 'Produto_16', 80.74, 2, 48.44),\n",
       " (211, 67, 'Produto_18', 135.98, 13, 81.59),\n",
       " (212, 49, 'Produto_32', 183.56, 12, 110.14),\n",
       " (213, 64, 'Produto_16', 10.76, 11, 6.46),\n",
       " (214, 95, 'Produto_49', 105.74, 19, 63.44),\n",
       " (215, 28, 'Produto_32', 143.99, 7, 86.39),\n",
       " (216, 12, 'Produto_50', 119.96, 15, 71.98),\n",
       " (217, 18, 'Produto_41', 98.14, 14, 58.88),\n",
       " (218, 93, 'Produto_34', 95.91, 2, 57.55),\n",
       " (219, 10, 'Produto_23', 170.09, 13, 102.05),\n",
       " (220, 66, 'Produto_1', 71.92, 15, 43.15),\n",
       " (221, 75, 'Produto_47', 20.84, 6, 12.5),\n",
       " (222, 10, 'Produto_6', 167.62, 17, 100.57),\n",
       " (223, 8, 'Produto_16', 76.0, 4, 45.6),\n",
       " (224, 77, 'Produto_33', 18.36, 10, 11.02),\n",
       " (225, 36, 'Produto_45', 15.91, 5, 9.55),\n",
       " (226, 34, 'Produto_7', 38.07, 4, 22.84),\n",
       " (227, 76, 'Produto_7', 146.11, 20, 87.67),\n",
       " (228, 74, 'Produto_16', 45.61, 4, 27.37),\n",
       " (229, 95, 'Produto_32', 36.61, 6, 21.97),\n",
       " (230, 100, 'Produto_26', 65.84, 3, 39.5),\n",
       " (231, 8, 'Produto_10', 30.18, 1, 18.11),\n",
       " (232, 2, 'Produto_15', 13.74, 3, 8.24),\n",
       " (233, 40, 'Produto_25', 156.4, 1, 93.84),\n",
       " (234, 74, 'Produto_39', 28.19, 9, 16.91),\n",
       " (235, 4, 'Produto_16', 86.21, 2, 51.73),\n",
       " (236, 27, 'Produto_20', 89.4, 14, 53.64),\n",
       " (237, 61, 'Produto_2', 43.56, 6, 26.14),\n",
       " (238, 54, 'Produto_3', 134.81, 7, 80.89),\n",
       " (239, 96, 'Produto_43', 194.33, 18, 116.6),\n",
       " (240, 62, 'Produto_31', 31.42, 3, 18.85),\n",
       " (241, 41, 'Produto_2', 131.85, 11, 79.11),\n",
       " (242, 10, 'Produto_8', 135.85, 20, 81.51),\n",
       " (243, 49, 'Produto_42', 134.6, 4, 80.76),\n",
       " (244, 5, 'Produto_5', 83.92, 5, 50.35),\n",
       " (245, 91, 'Produto_7', 178.77, 18, 107.26),\n",
       " (246, 21, 'Produto_24', 20.25, 12, 12.15),\n",
       " (247, 83, 'Produto_37', 198.96, 5, 119.38),\n",
       " (248, 77, 'Produto_28', 180.7, 7, 108.42),\n",
       " (249, 29, 'Produto_22', 106.38, 13, 63.83),\n",
       " (250, 36, 'Produto_25', 23.28, 10, 13.97),\n",
       " (251, 11, 'Produto_43', 146.55, 14, 87.93),\n",
       " (252, 34, 'Produto_7', 133.92, 18, 80.35),\n",
       " (253, 62, 'Produto_30', 72.61, 12, 43.57),\n",
       " (254, 46, 'Produto_11', 199.05, 1, 119.43),\n",
       " (255, 67, 'Produto_38', 130.09, 18, 78.05),\n",
       " (256, 40, 'Produto_48', 143.96, 8, 86.38),\n",
       " (257, 97, 'Produto_47', 42.45, 8, 25.47),\n",
       " (258, 89, 'Produto_32', 163.93, 19, 98.36),\n",
       " (259, 73, 'Produto_42', 169.11, 5, 101.47),\n",
       " (260, 100, 'Produto_1', 171.46, 6, 102.88),\n",
       " (261, 30, 'Produto_19', 151.51, 18, 90.91),\n",
       " (262, 60, 'Produto_50', 187.45, 10, 112.47),\n",
       " (263, 72, 'Produto_36', 139.34, 1, 83.6),\n",
       " (264, 34, 'Produto_28', 92.44, 4, 55.46),\n",
       " (265, 97, 'Produto_9', 153.97, 5, 92.38),\n",
       " (266, 58, 'Produto_31', 84.84, 18, 50.9),\n",
       " (267, 70, 'Produto_6', 59.07, 14, 35.44),\n",
       " (268, 73, 'Produto_45', 72.7, 1, 43.62),\n",
       " (269, 84, 'Produto_12', 91.54, 8, 54.92),\n",
       " (270, 81, 'Produto_39', 137.27, 8, 82.36),\n",
       " (271, 13, 'Produto_15', 91.25, 13, 54.75),\n",
       " (272, 17, 'Produto_44', 39.07, 5, 23.44),\n",
       " (273, 64, 'Produto_29', 198.8, 14, 119.28),\n",
       " (274, 70, 'Produto_13', 156.31, 2, 93.79),\n",
       " (275, 39, 'Produto_12', 129.06, 5, 77.44),\n",
       " (276, 62, 'Produto_40', 92.07, 9, 55.24),\n",
       " (277, 47, 'Produto_6', 23.37, 16, 14.02),\n",
       " (278, 72, 'Produto_4', 172.24, 11, 103.34),\n",
       " (279, 80, 'Produto_37', 145.13, 15, 87.08),\n",
       " (280, 42, 'Produto_31', 177.5, 1, 106.5),\n",
       " (281, 97, 'Produto_15', 183.21, 13, 109.93),\n",
       " (282, 22, 'Produto_34', 42.6, 16, 25.56),\n",
       " (283, 76, 'Produto_7', 54.93, 7, 32.96),\n",
       " (284, 5, 'Produto_40', 138.96, 1, 83.38),\n",
       " (285, 51, 'Produto_47', 88.6, 20, 53.16),\n",
       " (286, 8, 'Produto_4', 58.4, 5, 35.04),\n",
       " (287, 17, 'Produto_49', 116.06, 4, 69.64),\n",
       " (288, 55, 'Produto_29', 192.91, 4, 115.75),\n",
       " (289, 91, 'Produto_21', 159.18, 17, 95.51),\n",
       " (290, 38, 'Produto_32', 60.74, 11, 36.44),\n",
       " (291, 65, 'Produto_4', 105.22, 18, 63.13),\n",
       " (292, 21, 'Produto_39', 144.53, 15, 86.72),\n",
       " (293, 1, 'Produto_50', 133.05, 6, 79.83),\n",
       " (294, 62, 'Produto_36', 18.69, 16, 11.21),\n",
       " (295, 5, 'Produto_9', 54.07, 12, 32.44),\n",
       " (296, 66, 'Produto_40', 100.63, 18, 60.38),\n",
       " (297, 42, 'Produto_38', 86.18, 18, 51.71),\n",
       " (298, 99, 'Produto_16', 36.91, 4, 22.15),\n",
       " (299, 22, 'Produto_15', 92.67, 1, 55.6),\n",
       " (300, 45, 'Produto_28', 170.35, 10, 102.21),\n",
       " (301, 86, 'Produto_19', 182.79, 15, 109.67),\n",
       " (302, 16, 'Produto_30', 128.32, 14, 76.99),\n",
       " (303, 18, 'Produto_2', 111.71, 20, 67.03),\n",
       " (304, 99, 'Produto_50', 160.25, 9, 96.15),\n",
       " (305, 29, 'Produto_12', 85.76, 10, 51.46),\n",
       " (306, 19, 'Produto_30', 78.09, 9, 46.85),\n",
       " (307, 98, 'Produto_6', 150.28, 14, 90.17),\n",
       " (308, 50, 'Produto_30', 145.46, 10, 87.28),\n",
       " (309, 82, 'Produto_36', 141.76, 2, 85.06),\n",
       " (310, 28, 'Produto_15', 46.93, 14, 28.16),\n",
       " (311, 84, 'Produto_37', 106.29, 8, 63.77),\n",
       " (312, 56, 'Produto_24', 168.72, 14, 101.23),\n",
       " (313, 92, 'Produto_6', 36.89, 13, 22.13),\n",
       " (314, 20, 'Produto_1', 169.55, 18, 101.73),\n",
       " (315, 43, 'Produto_40', 142.55, 4, 85.53),\n",
       " (316, 50, 'Produto_29', 144.62, 15, 86.77),\n",
       " (317, 100, 'Produto_9', 31.4, 6, 18.84),\n",
       " (318, 97, 'Produto_1', 60.35, 20, 36.21),\n",
       " (319, 84, 'Produto_49', 177.64, 14, 106.58),\n",
       " (320, 88, 'Produto_27', 133.11, 6, 79.87),\n",
       " (321, 27, 'Produto_11', 162.31, 15, 97.39),\n",
       " (322, 82, 'Produto_30', 179.53, 6, 107.72),\n",
       " (323, 60, 'Produto_38', 66.98, 11, 40.19),\n",
       " (324, 64, 'Produto_31', 198.14, 15, 118.88),\n",
       " (325, 33, 'Produto_38', 90.19, 4, 54.11),\n",
       " (326, 51, 'Produto_33', 187.18, 4, 112.31),\n",
       " (327, 90, 'Produto_23', 197.39, 20, 118.43),\n",
       " (328, 3, 'Produto_39', 94.29, 13, 56.57),\n",
       " (329, 8, 'Produto_21', 22.06, 9, 13.24),\n",
       " (330, 10, 'Produto_30', 85.67, 3, 51.4),\n",
       " (331, 41, 'Produto_9', 171.23, 2, 102.74),\n",
       " (332, 52, 'Produto_25', 46.42, 14, 27.85),\n",
       " (333, 34, 'Produto_39', 66.0, 13, 39.6),\n",
       " (334, 53, 'Produto_36', 155.8, 2, 93.48),\n",
       " (335, 4, 'Produto_27', 109.8, 5, 65.88),\n",
       " (336, 72, 'Produto_41', 115.82, 1, 69.49),\n",
       " (337, 86, 'Produto_29', 143.29, 12, 85.97),\n",
       " (338, 63, 'Produto_13', 68.34, 12, 41.0),\n",
       " (339, 96, 'Produto_8', 20.54, 4, 12.32),\n",
       " (340, 86, 'Produto_20', 19.92, 6, 11.95),\n",
       " (341, 61, 'Produto_27', 150.62, 19, 90.37),\n",
       " (342, 23, 'Produto_40', 170.5, 2, 102.3),\n",
       " (343, 30, 'Produto_14', 142.28, 11, 85.37),\n",
       " (344, 15, 'Produto_30', 48.98, 11, 29.39),\n",
       " (345, 64, 'Produto_35', 89.72, 6, 53.83),\n",
       " (346, 56, 'Produto_9', 72.42, 5, 43.45),\n",
       " (347, 86, 'Produto_22', 175.04, 16, 105.02),\n",
       " (348, 25, 'Produto_22', 119.63, 20, 71.78),\n",
       " (349, 17, 'Produto_8', 63.6, 17, 38.16),\n",
       " (350, 61, 'Produto_16', 90.42, 1, 54.25),\n",
       " (351, 72, 'Produto_13', 20.88, 5, 12.53),\n",
       " (352, 28, 'Produto_12', 66.24, 6, 39.74),\n",
       " (353, 3, 'Produto_7', 47.0, 13, 28.2),\n",
       " (354, 97, 'Produto_26', 21.68, 4, 13.01),\n",
       " (355, 87, 'Produto_18', 166.68, 4, 100.01),\n",
       " (356, 26, 'Produto_7', 193.51, 17, 116.11),\n",
       " (357, 99, 'Produto_12', 112.02, 1, 67.21),\n",
       " (358, 82, 'Produto_17', 113.71, 12, 68.23),\n",
       " (359, 70, 'Produto_15', 65.39, 17, 39.23),\n",
       " (360, 74, 'Produto_27', 55.59, 18, 33.35),\n",
       " (361, 36, 'Produto_16', 84.18, 17, 50.51),\n",
       " (362, 39, 'Produto_38', 178.92, 8, 107.35),\n",
       " (363, 20, 'Produto_36', 136.61, 4, 81.97),\n",
       " (364, 41, 'Produto_22', 148.69, 20, 89.21),\n",
       " (365, 10, 'Produto_23', 11.65, 1, 6.99),\n",
       " (366, 60, 'Produto_8', 142.23, 16, 85.34),\n",
       " (367, 9, 'Produto_36', 184.02, 17, 110.41),\n",
       " (368, 21, 'Produto_3', 170.4, 4, 102.24),\n",
       " (369, 70, 'Produto_1', 88.27, 10, 52.96),\n",
       " (370, 1, 'Produto_10', 99.81, 12, 59.89),\n",
       " (371, 86, 'Produto_22', 122.09, 6, 73.25),\n",
       " (372, 32, 'Produto_22', 33.57, 18, 20.14),\n",
       " (373, 77, 'Produto_46', 159.33, 3, 95.6),\n",
       " (374, 36, 'Produto_25', 144.74, 8, 86.84),\n",
       " (375, 35, 'Produto_16', 74.49, 16, 44.69),\n",
       " (376, 4, 'Produto_3', 64.11, 8, 38.47),\n",
       " (377, 82, 'Produto_34', 112.96, 2, 67.78),\n",
       " (378, 20, 'Produto_16', 167.92, 13, 100.75),\n",
       " (379, 99, 'Produto_12', 21.49, 3, 12.89),\n",
       " (380, 94, 'Produto_36', 119.95, 4, 71.97),\n",
       " (381, 8, 'Produto_42', 182.49, 9, 109.49),\n",
       " (382, 61, 'Produto_7', 38.8, 20, 23.28),\n",
       " (383, 29, 'Produto_19', 198.77, 3, 119.26),\n",
       " (384, 25, 'Produto_19', 165.93, 13, 99.56),\n",
       " (385, 35, 'Produto_23', 138.9, 2, 83.34),\n",
       " (386, 23, 'Produto_26', 80.81, 1, 48.49),\n",
       " (387, 54, 'Produto_25', 25.68, 7, 15.41),\n",
       " (388, 93, 'Produto_14', 72.82, 20, 43.69),\n",
       " (389, 53, 'Produto_50', 175.41, 2, 105.25),\n",
       " (390, 94, 'Produto_42', 141.78, 11, 85.07),\n",
       " (391, 33, 'Produto_30', 161.44, 14, 96.86),\n",
       " (392, 56, 'Produto_3', 14.38, 8, 8.63),\n",
       " (393, 67, 'Produto_7', 74.3, 17, 44.58),\n",
       " (394, 50, 'Produto_26', 63.7, 13, 38.22),\n",
       " (395, 7, 'Produto_36', 162.04, 4, 97.22),\n",
       " (396, 61, 'Produto_38', 127.95, 19, 76.77),\n",
       " (397, 96, 'Produto_27', 52.5, 8, 31.5),\n",
       " (398, 27, 'Produto_9', 35.08, 11, 21.05),\n",
       " (399, 100, 'Produto_22', 162.06, 18, 97.24),\n",
       " (400, 31, 'Produto_16', 86.64, 19, 51.98),\n",
       " (401, 50, 'Produto_23', 52.41, 11, 31.45),\n",
       " (402, 65, 'Produto_20', 199.1, 7, 119.46),\n",
       " (403, 86, 'Produto_19', 174.39, 9, 104.63),\n",
       " (404, 85, 'Produto_41', 39.97, 19, 23.98),\n",
       " (405, 43, 'Produto_45', 71.63, 17, 42.98),\n",
       " (406, 89, 'Produto_22', 69.84, 16, 41.9),\n",
       " (407, 87, 'Produto_12', 29.86, 11, 17.92),\n",
       " (408, 47, 'Produto_10', 11.92, 16, 7.15),\n",
       " (409, 10, 'Produto_22', 194.26, 13, 116.56),\n",
       " (410, 17, 'Produto_4', 149.57, 4, 89.74),\n",
       " (411, 94, 'Produto_1', 121.02, 10, 72.61),\n",
       " (412, 30, 'Produto_14', 26.83, 2, 16.1),\n",
       " (413, 98, 'Produto_32', 10.03, 12, 6.02),\n",
       " (414, 67, 'Produto_29', 177.0, 6, 106.2),\n",
       " (415, 24, 'Produto_15', 104.37, 5, 62.62),\n",
       " (416, 54, 'Produto_29', 89.13, 17, 53.48),\n",
       " (417, 19, 'Produto_49', 68.44, 10, 41.06),\n",
       " (418, 68, 'Produto_25', 112.45, 2, 67.47),\n",
       " (419, 30, 'Produto_29', 58.53, 12, 35.12),\n",
       " (420, 61, 'Produto_36', 102.1, 20, 61.26),\n",
       " (421, 27, 'Produto_42', 83.37, 7, 50.02),\n",
       " (422, 8, 'Produto_18', 141.13, 15, 84.68),\n",
       " (423, 84, 'Produto_9', 13.04, 8, 7.82),\n",
       " (424, 100, 'Produto_24', 83.31, 18, 49.99),\n",
       " (425, 18, 'Produto_10', 15.95, 2, 9.57),\n",
       " (426, 3, 'Produto_34', 15.58, 1, 9.35),\n",
       " (427, 9, 'Produto_25', 61.58, 14, 36.95),\n",
       " (428, 61, 'Produto_10', 45.74, 4, 27.44),\n",
       " (429, 39, 'Produto_20', 48.31, 19, 28.99),\n",
       " (430, 99, 'Produto_46', 67.19, 3, 40.31),\n",
       " (431, 72, 'Produto_27', 134.35, 14, 80.61),\n",
       " (432, 83, 'Produto_44', 150.01, 3, 90.01),\n",
       " (433, 37, 'Produto_47', 177.32, 1, 106.39),\n",
       " (434, 87, 'Produto_3', 187.7, 1, 112.62),\n",
       " (435, 10, 'Produto_39', 107.65, 7, 64.59),\n",
       " (436, 43, 'Produto_43', 113.81, 13, 68.29),\n",
       " (437, 60, 'Produto_29', 98.56, 7, 59.14),\n",
       " (438, 85, 'Produto_50', 55.8, 16, 33.48),\n",
       " (439, 31, 'Produto_11', 148.32, 13, 88.99),\n",
       " (440, 59, 'Produto_22', 34.45, 12, 20.67),\n",
       " (441, 83, 'Produto_25', 168.0, 3, 100.8),\n",
       " (442, 91, 'Produto_42', 85.87, 20, 51.52),\n",
       " (443, 24, 'Produto_22', 63.03, 6, 37.82),\n",
       " (444, 20, 'Produto_6', 194.99, 15, 116.99),\n",
       " (445, 41, 'Produto_46', 52.96, 14, 31.78),\n",
       " (446, 10, 'Produto_4', 118.24, 15, 70.94),\n",
       " (447, 47, 'Produto_3', 111.78, 9, 67.07),\n",
       " (448, 72, 'Produto_24', 107.87, 8, 64.72),\n",
       " (449, 75, 'Produto_12', 181.36, 13, 108.82),\n",
       " (450, 91, 'Produto_11', 60.73, 8, 36.44),\n",
       " (451, 48, 'Produto_1', 18.44, 20, 11.06),\n",
       " (452, 12, 'Produto_28', 120.85, 8, 72.51),\n",
       " (453, 68, 'Produto_40', 167.29, 1, 100.37),\n",
       " (454, 60, 'Produto_30', 54.72, 12, 32.83),\n",
       " (455, 25, 'Produto_29', 110.63, 1, 66.38),\n",
       " (456, 22, 'Produto_12', 35.94, 18, 21.56),\n",
       " (457, 82, 'Produto_26', 134.73, 3, 80.84),\n",
       " (458, 98, 'Produto_4', 101.6, 17, 60.96),\n",
       " (459, 79, 'Produto_37', 95.52, 6, 57.31),\n",
       " (460, 93, 'Produto_40', 151.36, 12, 90.82),\n",
       " (461, 88, 'Produto_48', 154.02, 15, 92.41),\n",
       " (462, 54, 'Produto_17', 30.36, 7, 18.22),\n",
       " (463, 18, 'Produto_18', 40.89, 19, 24.53),\n",
       " (464, 7, 'Produto_4', 165.3, 18, 99.18),\n",
       " (465, 31, 'Produto_11', 16.06, 12, 9.64),\n",
       " (466, 50, 'Produto_37', 66.55, 20, 39.93),\n",
       " (467, 11, 'Produto_29', 186.75, 4, 112.05),\n",
       " (468, 57, 'Produto_30', 190.73, 5, 114.44),\n",
       " (469, 32, 'Produto_10', 40.43, 5, 24.26),\n",
       " (470, 56, 'Produto_49', 60.78, 11, 36.47),\n",
       " (471, 57, 'Produto_19', 147.38, 18, 88.43),\n",
       " (472, 79, 'Produto_23', 112.01, 19, 67.21),\n",
       " (473, 43, 'Produto_38', 154.74, 20, 92.84),\n",
       " (474, 76, 'Produto_19', 160.12, 5, 96.07),\n",
       " (475, 83, 'Produto_38', 92.49, 19, 55.49),\n",
       " (476, 84, 'Produto_3', 192.7, 9, 115.62),\n",
       " (477, 76, 'Produto_18', 19.22, 5, 11.53),\n",
       " (478, 97, 'Produto_44', 193.39, 8, 116.03),\n",
       " (479, 39, 'Produto_34', 162.33, 1, 97.4),\n",
       " (480, 98, 'Produto_22', 85.19, 9, 51.11),\n",
       " (481, 3, 'Produto_39', 33.03, 6, 19.82),\n",
       " (482, 33, 'Produto_33', 63.61, 13, 38.17),\n",
       " (483, 84, 'Produto_5', 170.45, 16, 102.27),\n",
       " (484, 9, 'Produto_30', 103.85, 20, 62.31),\n",
       " (485, 35, 'Produto_8', 198.35, 6, 119.01),\n",
       " (486, 16, 'Produto_7', 24.02, 16, 14.41),\n",
       " (487, 87, 'Produto_35', 47.53, 19, 28.52),\n",
       " (488, 75, 'Produto_29', 184.54, 10, 110.72),\n",
       " (489, 58, 'Produto_7', 62.24, 3, 37.34),\n",
       " (490, 70, 'Produto_26', 124.03, 7, 74.42),\n",
       " (491, 97, 'Produto_39', 150.94, 17, 90.56),\n",
       " (492, 82, 'Produto_18', 178.03, 18, 106.82),\n",
       " (493, 45, 'Produto_37', 157.59, 9, 94.55),\n",
       " (494, 65, 'Produto_17', 73.05, 14, 43.83),\n",
       " (495, 53, 'Produto_26', 97.69, 9, 58.61),\n",
       " (496, 27, 'Produto_12', 155.02, 1, 93.01),\n",
       " (497, 32, 'Produto_23', 71.04, 6, 42.62),\n",
       " (498, 80, 'Produto_1', 67.83, 13, 40.7),\n",
       " (499, 13, 'Produto_50', 187.89, 16, 112.73),\n",
       " (500, 46, 'Produto_21', 82.81, 11, 49.69)]"
      ]
     },
     "execution_count": 37,
     "metadata": {},
     "output_type": "execute_result"
    }
   ],
   "source": [
    "dados"
   ]
  },
  {
   "cell_type": "code",
   "execution_count": 38,
   "metadata": {},
   "outputs": [
    {
     "data": {
      "text/plain": [
       "list"
      ]
     },
     "execution_count": 38,
     "metadata": {},
     "output_type": "execute_result"
    }
   ],
   "source": [
    "type(dados)"
   ]
  },
  {
   "cell_type": "code",
   "execution_count": 39,
   "metadata": {},
   "outputs": [],
   "source": [
    "# Carrega os dados como dataframe do Pandas\n",
    "df = pd.DataFrame(dados, columns = ['ID_Pedido', \n",
    "                                    'ID_Cliente', \n",
    "                                    'Nome_Produto',\n",
    "                                    'Valor_Unitario',\n",
    "                                    'Unidades_Vendidas',\n",
    "                                    'Custo'])"
   ]
  },
  {
   "cell_type": "code",
   "execution_count": 40,
   "metadata": {},
   "outputs": [
    {
     "data": {
      "text/html": [
       "<div>\n",
       "<style scoped>\n",
       "    .dataframe tbody tr th:only-of-type {\n",
       "        vertical-align: middle;\n",
       "    }\n",
       "\n",
       "    .dataframe tbody tr th {\n",
       "        vertical-align: top;\n",
       "    }\n",
       "\n",
       "    .dataframe thead th {\n",
       "        text-align: right;\n",
       "    }\n",
       "</style>\n",
       "<table border=\"1\" class=\"dataframe\">\n",
       "  <thead>\n",
       "    <tr style=\"text-align: right;\">\n",
       "      <th></th>\n",
       "      <th>ID_Pedido</th>\n",
       "      <th>ID_Cliente</th>\n",
       "      <th>Nome_Produto</th>\n",
       "      <th>Valor_Unitario</th>\n",
       "      <th>Unidades_Vendidas</th>\n",
       "      <th>Custo</th>\n",
       "    </tr>\n",
       "  </thead>\n",
       "  <tbody>\n",
       "    <tr>\n",
       "      <th>0</th>\n",
       "      <td>1</td>\n",
       "      <td>63</td>\n",
       "      <td>Produto_38</td>\n",
       "      <td>154.03</td>\n",
       "      <td>7</td>\n",
       "      <td>92.42</td>\n",
       "    </tr>\n",
       "    <tr>\n",
       "      <th>1</th>\n",
       "      <td>2</td>\n",
       "      <td>49</td>\n",
       "      <td>Produto_8</td>\n",
       "      <td>171.52</td>\n",
       "      <td>5</td>\n",
       "      <td>102.91</td>\n",
       "    </tr>\n",
       "    <tr>\n",
       "      <th>2</th>\n",
       "      <td>3</td>\n",
       "      <td>83</td>\n",
       "      <td>Produto_39</td>\n",
       "      <td>28.97</td>\n",
       "      <td>13</td>\n",
       "      <td>17.38</td>\n",
       "    </tr>\n",
       "    <tr>\n",
       "      <th>3</th>\n",
       "      <td>4</td>\n",
       "      <td>37</td>\n",
       "      <td>Produto_2</td>\n",
       "      <td>104.55</td>\n",
       "      <td>4</td>\n",
       "      <td>62.73</td>\n",
       "    </tr>\n",
       "    <tr>\n",
       "      <th>4</th>\n",
       "      <td>5</td>\n",
       "      <td>19</td>\n",
       "      <td>Produto_1</td>\n",
       "      <td>77.21</td>\n",
       "      <td>19</td>\n",
       "      <td>46.33</td>\n",
       "    </tr>\n",
       "  </tbody>\n",
       "</table>\n",
       "</div>"
      ],
      "text/plain": [
       "   ID_Pedido  ID_Cliente Nome_Produto  Valor_Unitario  Unidades_Vendidas  \\\n",
       "0          1          63   Produto_38          154.03                  7   \n",
       "1          2          49    Produto_8          171.52                  5   \n",
       "2          3          83   Produto_39           28.97                 13   \n",
       "3          4          37    Produto_2          104.55                  4   \n",
       "4          5          19    Produto_1           77.21                 19   \n",
       "\n",
       "    Custo  \n",
       "0   92.42  \n",
       "1  102.91  \n",
       "2   17.38  \n",
       "3   62.73  \n",
       "4   46.33  "
      ]
     },
     "execution_count": 40,
     "metadata": {},
     "output_type": "execute_result"
    }
   ],
   "source": [
    "df.head()"
   ]
  },
  {
   "cell_type": "code",
   "execution_count": 41,
   "metadata": {},
   "outputs": [],
   "source": [
    "# Fecha o cursor e encerra a conexão\n",
    "cursor.close()\n",
    "con.close()"
   ]
  },
  {
   "cell_type": "markdown",
   "metadata": {},
   "source": [
    "> A query abaixo retorna a média de unidades vendidas."
   ]
  },
  {
   "cell_type": "code",
   "execution_count": 42,
   "metadata": {},
   "outputs": [],
   "source": [
    "# Calcula a média de unidades vendidas\n",
    "media_unidades_vendidas = df['Unidades_Vendidas'].mean()"
   ]
  },
  {
   "cell_type": "code",
   "execution_count": 43,
   "metadata": {},
   "outputs": [
    {
     "data": {
      "text/plain": [
       "numpy.float64"
      ]
     },
     "execution_count": 43,
     "metadata": {},
     "output_type": "execute_result"
    }
   ],
   "source": [
    "type(media_unidades_vendidas)"
   ]
  },
  {
   "cell_type": "code",
   "execution_count": 44,
   "metadata": {},
   "outputs": [
    {
     "name": "stdout",
     "output_type": "stream",
     "text": [
      "10.506\n"
     ]
    }
   ],
   "source": [
    "print(media_unidades_vendidas)"
   ]
  },
  {
   "cell_type": "markdown",
   "metadata": {},
   "source": [
    "> A query abaixo retorna a média de unidades vendidas por produto."
   ]
  },
  {
   "cell_type": "code",
   "execution_count": 45,
   "metadata": {},
   "outputs": [],
   "source": [
    "# Calcula a média de unidades vendidas por produto\n",
    "media_unidades_vendidas_por_produto = df.groupby('Nome_Produto')['Unidades_Vendidas'].mean()"
   ]
  },
  {
   "cell_type": "code",
   "execution_count": 46,
   "metadata": {},
   "outputs": [
    {
     "name": "stdout",
     "output_type": "stream",
     "text": [
      "Nome_Produto\n",
      "Produto_1     12.000000\n",
      "Produto_10     9.500000\n",
      "Produto_11    14.181818\n",
      "Produto_12     8.846154\n",
      "Produto_13     6.000000\n",
      "Produto_14     9.166667\n",
      "Produto_15     9.750000\n",
      "Produto_16     8.250000\n",
      "Produto_17    11.714286\n",
      "Produto_18    13.083333\n",
      "Name: Unidades_Vendidas, dtype: float64\n"
     ]
    }
   ],
   "source": [
    "# Visualiza os 10 primeiros resultados\n",
    "print(media_unidades_vendidas_por_produto.head(10))"
   ]
  },
  {
   "cell_type": "markdown",
   "metadata": {},
   "source": [
    "> A query abaixo retorna a média de unidades vendidas por produto se o valor unitario for maior do que 199."
   ]
  },
  {
   "cell_type": "code",
   "execution_count": 47,
   "metadata": {},
   "outputs": [
    {
     "data": {
      "text/plain": [
       "Nome_Produto\n",
       "Produto_11     1.0\n",
       "Produto_15     8.0\n",
       "Produto_17    14.0\n",
       "Produto_20     7.0\n",
       "Produto_39    16.0\n",
       "Name: Unidades_Vendidas, dtype: float64"
      ]
     },
     "execution_count": 47,
     "metadata": {},
     "output_type": "execute_result"
    }
   ],
   "source": [
    "# Retorna a média de unidades vendidas por produto se o valor unitario for maior do que 199.\n",
    "df[df['Valor_Unitario'] > 199].groupby('Nome_Produto')['Unidades_Vendidas'].mean()"
   ]
  },
  {
   "cell_type": "markdown",
   "metadata": {},
   "source": [
    "> A query abaixo retorna a média de unidades vendidas por produto se o valor unitario for maior do que 199 e somente se a média de unidades vendidas for maior do que 10."
   ]
  },
  {
   "cell_type": "code",
   "execution_count": 48,
   "metadata": {},
   "outputs": [
    {
     "data": {
      "text/html": [
       "<div>\n",
       "<style scoped>\n",
       "    .dataframe tbody tr th:only-of-type {\n",
       "        vertical-align: middle;\n",
       "    }\n",
       "\n",
       "    .dataframe tbody tr th {\n",
       "        vertical-align: top;\n",
       "    }\n",
       "\n",
       "    .dataframe thead th {\n",
       "        text-align: right;\n",
       "    }\n",
       "</style>\n",
       "<table border=\"1\" class=\"dataframe\">\n",
       "  <thead>\n",
       "    <tr style=\"text-align: right;\">\n",
       "      <th></th>\n",
       "      <th>ID_Pedido</th>\n",
       "      <th>ID_Cliente</th>\n",
       "      <th>Nome_Produto</th>\n",
       "      <th>Valor_Unitario</th>\n",
       "      <th>Unidades_Vendidas</th>\n",
       "      <th>Custo</th>\n",
       "    </tr>\n",
       "  </thead>\n",
       "  <tbody>\n",
       "    <tr>\n",
       "      <th>42</th>\n",
       "      <td>43</td>\n",
       "      <td>72</td>\n",
       "      <td>Produto_39</td>\n",
       "      <td>199.78</td>\n",
       "      <td>16</td>\n",
       "      <td>119.87</td>\n",
       "    </tr>\n",
       "    <tr>\n",
       "      <th>83</th>\n",
       "      <td>84</td>\n",
       "      <td>45</td>\n",
       "      <td>Produto_17</td>\n",
       "      <td>199.62</td>\n",
       "      <td>14</td>\n",
       "      <td>119.77</td>\n",
       "    </tr>\n",
       "  </tbody>\n",
       "</table>\n",
       "</div>"
      ],
      "text/plain": [
       "    ID_Pedido  ID_Cliente Nome_Produto  Valor_Unitario  Unidades_Vendidas  \\\n",
       "42         43          72   Produto_39          199.78                 16   \n",
       "83         84          45   Produto_17          199.62                 14   \n",
       "\n",
       "     Custo  \n",
       "42  119.87  \n",
       "83  119.77  "
      ]
     },
     "execution_count": 48,
     "metadata": {},
     "output_type": "execute_result"
    }
   ],
   "source": [
    "# Alternativa A\n",
    "df[df['Valor_Unitario'] > 199].groupby('Nome_Produto').filter(lambda x: x['Unidades_Vendidas'].mean() > 10)"
   ]
  },
  {
   "cell_type": "code",
   "execution_count": 49,
   "metadata": {},
   "outputs": [
    {
     "data": {
      "text/plain": [
       "Nome_Produto\n",
       "Produto_17    14.0\n",
       "Produto_39    16.0\n",
       "Name: Unidades_Vendidas, dtype: float64"
      ]
     },
     "execution_count": 49,
     "metadata": {},
     "output_type": "execute_result"
    }
   ],
   "source": [
    "# Alternativa B\n",
    "df[df['Valor_Unitario'] > 199].groupby('Nome_Produto') \\\n",
    "                              .filter(lambda x: x['Unidades_Vendidas'].mean() > 10) \\\n",
    "                              .groupby('Nome_Produto')['Unidades_Vendidas'].mean()"
   ]
  },
  {
   "cell_type": "markdown",
   "metadata": {},
   "source": [
    "## Sintaxe SQL x Sintaxe Pandas\n",
    "\n",
    "As duas instruções abaixo retornam o mesmo resultado!"
   ]
  },
  {
   "cell_type": "code",
   "execution_count": 50,
   "metadata": {},
   "outputs": [],
   "source": [
    "# Sintaxe SQL\n",
    "query5 = \"\"\"SELECT Nome_Produto, AVG(Unidades_Vendidas) \n",
    "            FROM tb_vendas_dsa \n",
    "            WHERE Valor_Unitario > 199 \n",
    "            GROUP BY Nome_Produto \n",
    "            HAVING AVG(Unidades_Vendidas) > 10\"\"\""
   ]
  },
  {
   "cell_type": "code",
   "execution_count": 51,
   "metadata": {},
   "outputs": [
    {
     "data": {
      "text/plain": [
       "Nome_Produto\n",
       "Produto_17    14.0\n",
       "Produto_39    16.0\n",
       "Name: Unidades_Vendidas, dtype: float64"
      ]
     },
     "execution_count": 51,
     "metadata": {},
     "output_type": "execute_result"
    }
   ],
   "source": [
    "# Sintaxe Pandas\n",
    "df[df['Valor_Unitario'] > 199].groupby('Nome_Produto') \\\n",
    "                              .filter(lambda x: x['Unidades_Vendidas'].mean() > 10) \\\n",
    "                              .groupby('Nome_Produto')['Unidades_Vendidas'].mean()"
   ]
  },
  {
   "cell_type": "markdown",
   "metadata": {},
   "source": [
    "# Fim"
   ]
  },
  {
   "cell_type": "markdown",
   "metadata": {},
   "source": [
    "\n",
    "### Obrigado\n",
    "\n",
    "### Visite o Blog da Data Science Academy - <a href=\"http://blog.dsacademy.com.br\">Blog DSA</a>\n"
   ]
  }
 ],
 "metadata": {
  "kernelspec": {
   "display_name": "Python 3 (ipykernel)",
   "language": "python",
   "name": "python3"
  },
  "language_info": {
   "codemirror_mode": {
    "name": "ipython",
    "version": 3
   },
   "file_extension": ".py",
   "mimetype": "text/x-python",
   "name": "python",
   "nbconvert_exporter": "python",
   "pygments_lexer": "ipython3",
   "version": "3.9.13"
  }
 },
 "nbformat": 4,
 "nbformat_minor": 1
}
